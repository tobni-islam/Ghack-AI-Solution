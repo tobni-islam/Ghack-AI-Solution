{
 "cells": [
  {
   "cell_type": "code",
   "execution_count": 1,
   "id": "056f8283",
   "metadata": {
    "execution": {
     "iopub.execute_input": "2024-03-02T10:51:16.425711Z",
     "iopub.status.busy": "2024-03-02T10:51:16.424620Z",
     "iopub.status.idle": "2024-03-02T10:51:26.896727Z",
     "shell.execute_reply": "2024-03-02T10:51:26.895290Z"
    },
    "papermill": {
     "duration": 10.487171,
     "end_time": "2024-03-02T10:51:26.900485",
     "exception": false,
     "start_time": "2024-03-02T10:51:16.413314",
     "status": "completed"
    },
    "tags": []
   },
   "outputs": [],
   "source": [
    "# Importing stock ml libraries\n",
    "import warnings\n",
    "warnings.simplefilter('ignore')\n",
    "import numpy as np\n",
    "import pandas as pd\n",
    "from tqdm import tqdm\n",
    "from sklearn import metrics\n",
    "import transformers\n",
    "import torch\n",
    "from torch.utils.data import Dataset, DataLoader, RandomSampler, SequentialSampler\n",
    "from transformers import DistilBertTokenizer, DistilBertModel\n",
    "import logging\n",
    "logging.basicConfig(level=logging.ERROR)"
   ]
  },
  {
   "cell_type": "code",
   "execution_count": 2,
   "id": "dc982ab6",
   "metadata": {
    "execution": {
     "iopub.execute_input": "2024-03-02T10:51:26.922171Z",
     "iopub.status.busy": "2024-03-02T10:51:26.921047Z",
     "iopub.status.idle": "2024-03-02T10:51:26.927394Z",
     "shell.execute_reply": "2024-03-02T10:51:26.926179Z"
    },
    "papermill": {
     "duration": 0.019895,
     "end_time": "2024-03-02T10:51:26.929980",
     "exception": false,
     "start_time": "2024-03-02T10:51:26.910085",
     "status": "completed"
    },
    "tags": []
   },
   "outputs": [],
   "source": [
    "# # Setting up the device for GPU usage\n",
    "\n",
    "from torch import cuda\n",
    "device = 'cuda' if cuda.is_available() else 'cpu'"
   ]
  },
  {
   "cell_type": "code",
   "execution_count": 3,
   "id": "539ba91e",
   "metadata": {
    "execution": {
     "iopub.execute_input": "2024-03-02T10:51:26.951055Z",
     "iopub.status.busy": "2024-03-02T10:51:26.950545Z",
     "iopub.status.idle": "2024-03-02T10:51:26.959276Z",
     "shell.execute_reply": "2024-03-02T10:51:26.958186Z"
    },
    "papermill": {
     "duration": 0.022667,
     "end_time": "2024-03-02T10:51:26.961995",
     "exception": false,
     "start_time": "2024-03-02T10:51:26.939328",
     "status": "completed"
    },
    "tags": []
   },
   "outputs": [],
   "source": [
    "def hamming_score(y_true, y_pred, normalize=True, sample_weight=None):\n",
    "    acc_list = []\n",
    "    for i in range(y_true.shape[0]):\n",
    "        set_true = set( np.where(y_true[i])[0] )\n",
    "        set_pred = set( np.where(y_pred[i])[0] )\n",
    "        tmp_a = None\n",
    "        if len(set_true) == 0 and len(set_pred) == 0:\n",
    "            tmp_a = 1\n",
    "        else:\n",
    "            tmp_a = len(set_true.intersection(set_pred))/\\\n",
    "                    float( len(set_true.union(set_pred)) )\n",
    "        acc_list.append(tmp_a)\n",
    "    return np.mean(acc_list)"
   ]
  },
  {
   "cell_type": "code",
   "execution_count": 4,
   "id": "28c7cb05",
   "metadata": {
    "execution": {
     "iopub.execute_input": "2024-03-02T10:51:26.982869Z",
     "iopub.status.busy": "2024-03-02T10:51:26.982378Z",
     "iopub.status.idle": "2024-03-02T10:51:27.079200Z",
     "shell.execute_reply": "2024-03-02T10:51:27.077633Z"
    },
    "papermill": {
     "duration": 0.110777,
     "end_time": "2024-03-02T10:51:27.082062",
     "exception": false,
     "start_time": "2024-03-02T10:51:26.971285",
     "status": "completed"
    },
    "tags": []
   },
   "outputs": [
    {
     "data": {
      "text/html": [
       "<div>\n",
       "<style scoped>\n",
       "    .dataframe tbody tr th:only-of-type {\n",
       "        vertical-align: middle;\n",
       "    }\n",
       "\n",
       "    .dataframe tbody tr th {\n",
       "        vertical-align: top;\n",
       "    }\n",
       "\n",
       "    .dataframe thead th {\n",
       "        text-align: right;\n",
       "    }\n",
       "</style>\n",
       "<table border=\"1\" class=\"dataframe\">\n",
       "  <thead>\n",
       "    <tr style=\"text-align: right;\">\n",
       "      <th></th>\n",
       "      <th>mail</th>\n",
       "      <th>category</th>\n",
       "      <th>priority</th>\n",
       "    </tr>\n",
       "  </thead>\n",
       "  <tbody>\n",
       "    <tr>\n",
       "      <th>0</th>\n",
       "      <td>Subject: Share Your Feedback with Us – We’re L...</td>\n",
       "      <td>Customer Feedback</td>\n",
       "      <td>Normal</td>\n",
       "    </tr>\n",
       "    <tr>\n",
       "      <th>1</th>\n",
       "      <td>Subject: You're Invited: The Annual Global Lea...</td>\n",
       "      <td>Event Invitations</td>\n",
       "      <td>Normal</td>\n",
       "    </tr>\n",
       "    <tr>\n",
       "      <th>2</th>\n",
       "      <td>Subject: Discover the Perfect Solution with Ou...</td>\n",
       "      <td>Sales Inquiries</td>\n",
       "      <td>Normal</td>\n",
       "    </tr>\n",
       "    <tr>\n",
       "      <th>3</th>\n",
       "      <td>Subject: Assistance Needed: System Update Issu...</td>\n",
       "      <td>Technical Support</td>\n",
       "      <td>Urgent</td>\n",
       "    </tr>\n",
       "    <tr>\n",
       "      <th>4</th>\n",
       "      <td>Subject: Exclusive Member Rewards &amp; Savings Aw...</td>\n",
       "      <td>Marketing and Promotions</td>\n",
       "      <td>Normal</td>\n",
       "    </tr>\n",
       "  </tbody>\n",
       "</table>\n",
       "</div>"
      ],
      "text/plain": [
       "                                                mail  \\\n",
       "0  Subject: Share Your Feedback with Us – We’re L...   \n",
       "1  Subject: You're Invited: The Annual Global Lea...   \n",
       "2  Subject: Discover the Perfect Solution with Ou...   \n",
       "3  Subject: Assistance Needed: System Update Issu...   \n",
       "4  Subject: Exclusive Member Rewards & Savings Aw...   \n",
       "\n",
       "                   category priority  \n",
       "0         Customer Feedback   Normal  \n",
       "1         Event Invitations   Normal  \n",
       "2           Sales Inquiries   Normal  \n",
       "3         Technical Support   Urgent  \n",
       "4  Marketing and Promotions   Normal  "
      ]
     },
     "execution_count": 4,
     "metadata": {},
     "output_type": "execute_result"
    }
   ],
   "source": [
    "data = pd.read_csv('/kaggle/input/mail-categories-dataset/final_data.csv')\n",
    "data.head()"
   ]
  },
  {
   "cell_type": "code",
   "execution_count": 5,
   "id": "bfdd7245",
   "metadata": {
    "execution": {
     "iopub.execute_input": "2024-03-02T10:51:27.105771Z",
     "iopub.status.busy": "2024-03-02T10:51:27.105240Z",
     "iopub.status.idle": "2024-03-02T10:51:27.112043Z",
     "shell.execute_reply": "2024-03-02T10:51:27.110430Z"
    },
    "papermill": {
     "duration": 0.021427,
     "end_time": "2024-03-02T10:51:27.114515",
     "exception": false,
     "start_time": "2024-03-02T10:51:27.093088",
     "status": "completed"
    },
    "tags": []
   },
   "outputs": [],
   "source": [
    "categories = [\n",
    "    'General Inquiries',\n",
    "    'Technical Support',\n",
    "    'Customer Feedback',\n",
    "    'Complaints',\n",
    "    'Sales Inquiries',\n",
    "    'Collaboration Opportunities',\n",
    "    'Internal Communication',\n",
    "    'Legal Matters',\n",
    "    'Marketing and Promotions',\n",
    "    'Event Invitations'\n",
    "]"
   ]
  },
  {
   "cell_type": "code",
   "execution_count": 6,
   "id": "62300ee1",
   "metadata": {
    "execution": {
     "iopub.execute_input": "2024-03-02T10:51:27.137724Z",
     "iopub.status.busy": "2024-03-02T10:51:27.137219Z",
     "iopub.status.idle": "2024-03-02T10:51:27.590290Z",
     "shell.execute_reply": "2024-03-02T10:51:27.589303Z"
    },
    "papermill": {
     "duration": 0.467905,
     "end_time": "2024-03-02T10:51:27.592637",
     "exception": false,
     "start_time": "2024-03-02T10:51:27.124732",
     "status": "completed"
    },
    "tags": []
   },
   "outputs": [
    {
     "data": {
      "text/html": [
       "<div>\n",
       "<style scoped>\n",
       "    .dataframe tbody tr th:only-of-type {\n",
       "        vertical-align: middle;\n",
       "    }\n",
       "\n",
       "    .dataframe tbody tr th {\n",
       "        vertical-align: top;\n",
       "    }\n",
       "\n",
       "    .dataframe thead th {\n",
       "        text-align: right;\n",
       "    }\n",
       "</style>\n",
       "<table border=\"1\" class=\"dataframe\">\n",
       "  <thead>\n",
       "    <tr style=\"text-align: right;\">\n",
       "      <th></th>\n",
       "      <th>mail</th>\n",
       "      <th>category</th>\n",
       "      <th>priority</th>\n",
       "      <th>labels</th>\n",
       "    </tr>\n",
       "  </thead>\n",
       "  <tbody>\n",
       "    <tr>\n",
       "      <th>0</th>\n",
       "      <td>Subject: Share Your Feedback with Us – We’re L...</td>\n",
       "      <td>Customer Feedback</td>\n",
       "      <td>Normal</td>\n",
       "      <td>[0, 0, 1, 0, 0, 0, 0, 0, 0, 0]</td>\n",
       "    </tr>\n",
       "    <tr>\n",
       "      <th>1</th>\n",
       "      <td>Subject: You're Invited: The Annual Global Lea...</td>\n",
       "      <td>Event Invitations</td>\n",
       "      <td>Normal</td>\n",
       "      <td>[0, 0, 0, 0, 0, 0, 0, 0, 0, 1]</td>\n",
       "    </tr>\n",
       "    <tr>\n",
       "      <th>2</th>\n",
       "      <td>Subject: Discover the Perfect Solution with Ou...</td>\n",
       "      <td>Sales Inquiries</td>\n",
       "      <td>Normal</td>\n",
       "      <td>[0, 0, 0, 0, 1, 0, 0, 0, 0, 0]</td>\n",
       "    </tr>\n",
       "    <tr>\n",
       "      <th>3</th>\n",
       "      <td>Subject: Assistance Needed: System Update Issu...</td>\n",
       "      <td>Technical Support</td>\n",
       "      <td>Urgent</td>\n",
       "      <td>[0, 1, 0, 0, 0, 0, 0, 0, 0, 0]</td>\n",
       "    </tr>\n",
       "    <tr>\n",
       "      <th>4</th>\n",
       "      <td>Subject: Exclusive Member Rewards &amp; Savings Aw...</td>\n",
       "      <td>Marketing and Promotions</td>\n",
       "      <td>Normal</td>\n",
       "      <td>[0, 0, 0, 0, 0, 0, 0, 0, 1, 0]</td>\n",
       "    </tr>\n",
       "    <tr>\n",
       "      <th>5</th>\n",
       "      <td>Subject: Alignment and Integration Initiative ...</td>\n",
       "      <td>Internal Communication</td>\n",
       "      <td>Normal</td>\n",
       "      <td>[0, 0, 0, 0, 0, 0, 1, 0, 0, 0]</td>\n",
       "    </tr>\n",
       "    <tr>\n",
       "      <th>6</th>\n",
       "      <td>Subject: Immediate Attention Required: Unresol...</td>\n",
       "      <td>Complaints</td>\n",
       "      <td>Urgent</td>\n",
       "      <td>[0, 0, 0, 1, 0, 0, 0, 0, 0, 0]</td>\n",
       "    </tr>\n",
       "    <tr>\n",
       "      <th>7</th>\n",
       "      <td>Subject: 🌟 Exclusive VIP Savings Inside – Unwr...</td>\n",
       "      <td>Marketing and Promotions</td>\n",
       "      <td>Normal</td>\n",
       "      <td>[0, 0, 0, 0, 0, 0, 0, 0, 1, 0]</td>\n",
       "    </tr>\n",
       "    <tr>\n",
       "      <th>8</th>\n",
       "      <td>Subject: Update on Company Policies and Proced...</td>\n",
       "      <td>Internal Communication</td>\n",
       "      <td>Normal</td>\n",
       "      <td>[0, 0, 0, 0, 0, 0, 1, 0, 0, 0]</td>\n",
       "    </tr>\n",
       "    <tr>\n",
       "      <th>9</th>\n",
       "      <td>Subject: Assistance with Ongoing Technical Dif...</td>\n",
       "      <td>Technical Support</td>\n",
       "      <td>Normal</td>\n",
       "      <td>[0, 1, 0, 0, 0, 0, 0, 0, 0, 0]</td>\n",
       "    </tr>\n",
       "  </tbody>\n",
       "</table>\n",
       "</div>"
      ],
      "text/plain": [
       "                                                mail  \\\n",
       "0  Subject: Share Your Feedback with Us – We’re L...   \n",
       "1  Subject: You're Invited: The Annual Global Lea...   \n",
       "2  Subject: Discover the Perfect Solution with Ou...   \n",
       "3  Subject: Assistance Needed: System Update Issu...   \n",
       "4  Subject: Exclusive Member Rewards & Savings Aw...   \n",
       "5  Subject: Alignment and Integration Initiative ...   \n",
       "6  Subject: Immediate Attention Required: Unresol...   \n",
       "7  Subject: 🌟 Exclusive VIP Savings Inside – Unwr...   \n",
       "8  Subject: Update on Company Policies and Proced...   \n",
       "9  Subject: Assistance with Ongoing Technical Dif...   \n",
       "\n",
       "                   category priority                          labels  \n",
       "0         Customer Feedback   Normal  [0, 0, 1, 0, 0, 0, 0, 0, 0, 0]  \n",
       "1         Event Invitations   Normal  [0, 0, 0, 0, 0, 0, 0, 0, 0, 1]  \n",
       "2           Sales Inquiries   Normal  [0, 0, 0, 0, 1, 0, 0, 0, 0, 0]  \n",
       "3         Technical Support   Urgent  [0, 1, 0, 0, 0, 0, 0, 0, 0, 0]  \n",
       "4  Marketing and Promotions   Normal  [0, 0, 0, 0, 0, 0, 0, 0, 1, 0]  \n",
       "5    Internal Communication   Normal  [0, 0, 0, 0, 0, 0, 1, 0, 0, 0]  \n",
       "6                Complaints   Urgent  [0, 0, 0, 1, 0, 0, 0, 0, 0, 0]  \n",
       "7  Marketing and Promotions   Normal  [0, 0, 0, 0, 0, 0, 0, 0, 1, 0]  \n",
       "8    Internal Communication   Normal  [0, 0, 0, 0, 0, 0, 1, 0, 0, 0]  \n",
       "9         Technical Support   Normal  [0, 1, 0, 0, 0, 0, 0, 0, 0, 0]  "
      ]
     },
     "execution_count": 6,
     "metadata": {},
     "output_type": "execute_result"
    }
   ],
   "source": [
    "data['labels'] = [[0 if data.iloc[i,1] != c else 1 for c in categories] for i in range(len(data))]\n",
    "data.head(10)"
   ]
  },
  {
   "cell_type": "code",
   "execution_count": 7,
   "id": "f6516086",
   "metadata": {
    "execution": {
     "iopub.execute_input": "2024-03-02T10:51:27.616094Z",
     "iopub.status.busy": "2024-03-02T10:51:27.614674Z",
     "iopub.status.idle": "2024-03-02T10:51:27.638166Z",
     "shell.execute_reply": "2024-03-02T10:51:27.636917Z"
    },
    "papermill": {
     "duration": 0.038306,
     "end_time": "2024-03-02T10:51:27.641045",
     "exception": false,
     "start_time": "2024-03-02T10:51:27.602739",
     "status": "completed"
    },
    "tags": []
   },
   "outputs": [
    {
     "data": {
      "text/html": [
       "<div>\n",
       "<style scoped>\n",
       "    .dataframe tbody tr th:only-of-type {\n",
       "        vertical-align: middle;\n",
       "    }\n",
       "\n",
       "    .dataframe tbody tr th {\n",
       "        vertical-align: top;\n",
       "    }\n",
       "\n",
       "    .dataframe thead th {\n",
       "        text-align: right;\n",
       "    }\n",
       "</style>\n",
       "<table border=\"1\" class=\"dataframe\">\n",
       "  <thead>\n",
       "    <tr style=\"text-align: right;\">\n",
       "      <th></th>\n",
       "      <th>mail</th>\n",
       "      <th>labels</th>\n",
       "    </tr>\n",
       "  </thead>\n",
       "  <tbody>\n",
       "    <tr>\n",
       "      <th>0</th>\n",
       "      <td>Subject: Share Your Feedback with Us – We’re L...</td>\n",
       "      <td>[0, 0, 1, 0, 0, 0, 0, 0, 0, 0]</td>\n",
       "    </tr>\n",
       "    <tr>\n",
       "      <th>1</th>\n",
       "      <td>Subject: You're Invited: The Annual Global Lea...</td>\n",
       "      <td>[0, 0, 0, 0, 0, 0, 0, 0, 0, 1]</td>\n",
       "    </tr>\n",
       "    <tr>\n",
       "      <th>2</th>\n",
       "      <td>Subject: Discover the Perfect Solution with Ou...</td>\n",
       "      <td>[0, 0, 0, 0, 1, 0, 0, 0, 0, 0]</td>\n",
       "    </tr>\n",
       "    <tr>\n",
       "      <th>3</th>\n",
       "      <td>Subject: Assistance Needed: System Update Issu...</td>\n",
       "      <td>[0, 1, 0, 0, 0, 0, 0, 0, 0, 0]</td>\n",
       "    </tr>\n",
       "    <tr>\n",
       "      <th>4</th>\n",
       "      <td>Subject: Exclusive Member Rewards &amp; Savings Aw...</td>\n",
       "      <td>[0, 0, 0, 0, 0, 0, 0, 0, 1, 0]</td>\n",
       "    </tr>\n",
       "  </tbody>\n",
       "</table>\n",
       "</div>"
      ],
      "text/plain": [
       "                                                mail  \\\n",
       "0  Subject: Share Your Feedback with Us – We’re L...   \n",
       "1  Subject: You're Invited: The Annual Global Lea...   \n",
       "2  Subject: Discover the Perfect Solution with Ou...   \n",
       "3  Subject: Assistance Needed: System Update Issu...   \n",
       "4  Subject: Exclusive Member Rewards & Savings Aw...   \n",
       "\n",
       "                           labels  \n",
       "0  [0, 0, 1, 0, 0, 0, 0, 0, 0, 0]  \n",
       "1  [0, 0, 0, 0, 0, 0, 0, 0, 0, 1]  \n",
       "2  [0, 0, 0, 0, 1, 0, 0, 0, 0, 0]  \n",
       "3  [0, 1, 0, 0, 0, 0, 0, 0, 0, 0]  \n",
       "4  [0, 0, 0, 0, 0, 0, 0, 0, 1, 0]  "
      ]
     },
     "execution_count": 7,
     "metadata": {},
     "output_type": "execute_result"
    }
   ],
   "source": [
    "data_mod = data[['mail', 'labels']]\n",
    "data_mod.head()"
   ]
  },
  {
   "cell_type": "code",
   "execution_count": 8,
   "id": "87448ccf",
   "metadata": {
    "execution": {
     "iopub.execute_input": "2024-03-02T10:51:27.665683Z",
     "iopub.status.busy": "2024-03-02T10:51:27.665204Z",
     "iopub.status.idle": "2024-03-02T10:51:27.670442Z",
     "shell.execute_reply": "2024-03-02T10:51:27.669255Z"
    },
    "papermill": {
     "duration": 0.021403,
     "end_time": "2024-03-02T10:51:27.673107",
     "exception": false,
     "start_time": "2024-03-02T10:51:27.651704",
     "status": "completed"
    },
    "tags": []
   },
   "outputs": [],
   "source": [
    "train_data = data_mod.iloc[:900]\n",
    "test_data = data_mod.iloc[800:]"
   ]
  },
  {
   "cell_type": "code",
   "execution_count": 9,
   "id": "0035a591",
   "metadata": {
    "execution": {
     "iopub.execute_input": "2024-03-02T10:51:27.697215Z",
     "iopub.status.busy": "2024-03-02T10:51:27.696100Z",
     "iopub.status.idle": "2024-03-02T10:51:31.164042Z",
     "shell.execute_reply": "2024-03-02T10:51:31.162788Z"
    },
    "papermill": {
     "duration": 3.483559,
     "end_time": "2024-03-02T10:51:31.167274",
     "exception": false,
     "start_time": "2024-03-02T10:51:27.683715",
     "status": "completed"
    },
    "tags": []
   },
   "outputs": [
    {
     "data": {
      "application/vnd.jupyter.widget-view+json": {
       "model_id": "a109f39573df4e7ea56485ac6b40aa4c",
       "version_major": 2,
       "version_minor": 0
      },
      "text/plain": [
       "tokenizer_config.json:   0%|          | 0.00/28.0 [00:00<?, ?B/s]"
      ]
     },
     "metadata": {},
     "output_type": "display_data"
    },
    {
     "data": {
      "application/vnd.jupyter.widget-view+json": {
       "model_id": "267c6bdebc764e0db9dcf72a0fbfeb45",
       "version_major": 2,
       "version_minor": 0
      },
      "text/plain": [
       "vocab.txt:   0%|          | 0.00/232k [00:00<?, ?B/s]"
      ]
     },
     "metadata": {},
     "output_type": "display_data"
    },
    {
     "data": {
      "application/vnd.jupyter.widget-view+json": {
       "model_id": "6c8988214eae450f9d6d0099be6f5a57",
       "version_major": 2,
       "version_minor": 0
      },
      "text/plain": [
       "tokenizer.json:   0%|          | 0.00/466k [00:00<?, ?B/s]"
      ]
     },
     "metadata": {},
     "output_type": "display_data"
    },
    {
     "data": {
      "application/vnd.jupyter.widget-view+json": {
       "model_id": "0645e0347a8f4624b0244d34d67abda3",
       "version_major": 2,
       "version_minor": 0
      },
      "text/plain": [
       "config.json:   0%|          | 0.00/483 [00:00<?, ?B/s]"
      ]
     },
     "metadata": {},
     "output_type": "display_data"
    }
   ],
   "source": [
    "# Defining some key variables that will be used later on in the training\n",
    "MAX_LEN = 128\n",
    "TRAIN_BATCH_SIZE = 1\n",
    "VALID_BATCH_SIZE = 1\n",
    "EPOCHS = 2\n",
    "LEARNING_RATE = 1e-05\n",
    "tokenizer = DistilBertTokenizer.from_pretrained('distilbert-base-uncased', truncation=True, do_lower_case=True)"
   ]
  },
  {
   "cell_type": "code",
   "execution_count": null,
   "id": "1761a000",
   "metadata": {
    "papermill": {
     "duration": 0.01098,
     "end_time": "2024-03-02T10:51:31.189641",
     "exception": false,
     "start_time": "2024-03-02T10:51:31.178661",
     "status": "completed"
    },
    "tags": []
   },
   "outputs": [],
   "source": []
  },
  {
   "cell_type": "code",
   "execution_count": 10,
   "id": "50ea3267",
   "metadata": {
    "execution": {
     "iopub.execute_input": "2024-03-02T10:51:31.215603Z",
     "iopub.status.busy": "2024-03-02T10:51:31.214130Z",
     "iopub.status.idle": "2024-03-02T10:51:31.234111Z",
     "shell.execute_reply": "2024-03-02T10:51:31.232967Z"
    },
    "papermill": {
     "duration": 0.03549,
     "end_time": "2024-03-02T10:51:31.236751",
     "exception": false,
     "start_time": "2024-03-02T10:51:31.201261",
     "status": "completed"
    },
    "tags": []
   },
   "outputs": [
    {
     "data": {
      "text/html": [
       "<div>\n",
       "<style scoped>\n",
       "    .dataframe tbody tr th:only-of-type {\n",
       "        vertical-align: middle;\n",
       "    }\n",
       "\n",
       "    .dataframe tbody tr th {\n",
       "        vertical-align: top;\n",
       "    }\n",
       "\n",
       "    .dataframe thead th {\n",
       "        text-align: right;\n",
       "    }\n",
       "</style>\n",
       "<table border=\"1\" class=\"dataframe\">\n",
       "  <thead>\n",
       "    <tr style=\"text-align: right;\">\n",
       "      <th></th>\n",
       "      <th>mail</th>\n",
       "      <th>labels</th>\n",
       "    </tr>\n",
       "  </thead>\n",
       "  <tbody>\n",
       "    <tr>\n",
       "      <th>0</th>\n",
       "      <td>Subject: Share Your Feedback with Us – We’re L...</td>\n",
       "      <td>[0, 0, 1, 0, 0, 0, 0, 0, 0, 0]</td>\n",
       "    </tr>\n",
       "    <tr>\n",
       "      <th>1</th>\n",
       "      <td>Subject: You're Invited: The Annual Global Lea...</td>\n",
       "      <td>[0, 0, 0, 0, 0, 0, 0, 0, 0, 1]</td>\n",
       "    </tr>\n",
       "    <tr>\n",
       "      <th>2</th>\n",
       "      <td>Subject: Discover the Perfect Solution with Ou...</td>\n",
       "      <td>[0, 0, 0, 0, 1, 0, 0, 0, 0, 0]</td>\n",
       "    </tr>\n",
       "    <tr>\n",
       "      <th>3</th>\n",
       "      <td>Subject: Assistance Needed: System Update Issu...</td>\n",
       "      <td>[0, 1, 0, 0, 0, 0, 0, 0, 0, 0]</td>\n",
       "    </tr>\n",
       "    <tr>\n",
       "      <th>4</th>\n",
       "      <td>Subject: Exclusive Member Rewards &amp; Savings Aw...</td>\n",
       "      <td>[0, 0, 0, 0, 0, 0, 0, 0, 1, 0]</td>\n",
       "    </tr>\n",
       "    <tr>\n",
       "      <th>...</th>\n",
       "      <td>...</td>\n",
       "      <td>...</td>\n",
       "    </tr>\n",
       "    <tr>\n",
       "      <th>895</th>\n",
       "      <td>Subject: General Inquiry Regarding [Product/Se...</td>\n",
       "      <td>[1, 0, 0, 0, 0, 0, 0, 0, 0, 0]</td>\n",
       "    </tr>\n",
       "    <tr>\n",
       "      <th>896</th>\n",
       "      <td>Subject: Unlock Exclusive Member Savings – Lim...</td>\n",
       "      <td>[0, 0, 0, 0, 0, 0, 0, 0, 1, 0]</td>\n",
       "    </tr>\n",
       "    <tr>\n",
       "      <th>897</th>\n",
       "      <td>Subject: Share Your Experience with Us – We Va...</td>\n",
       "      <td>[0, 0, 1, 0, 0, 0, 0, 0, 0, 0]</td>\n",
       "    </tr>\n",
       "    <tr>\n",
       "      <th>898</th>\n",
       "      <td>Subject: Exclusive VIP Preview: New Spring Col...</td>\n",
       "      <td>[0, 0, 0, 0, 0, 0, 0, 0, 1, 0]</td>\n",
       "    </tr>\n",
       "    <tr>\n",
       "      <th>899</th>\n",
       "      <td>Subject: Share Your Experience - We Value Your...</td>\n",
       "      <td>[0, 0, 1, 0, 0, 0, 0, 0, 0, 0]</td>\n",
       "    </tr>\n",
       "  </tbody>\n",
       "</table>\n",
       "<p>900 rows × 2 columns</p>\n",
       "</div>"
      ],
      "text/plain": [
       "                                                  mail  \\\n",
       "0    Subject: Share Your Feedback with Us – We’re L...   \n",
       "1    Subject: You're Invited: The Annual Global Lea...   \n",
       "2    Subject: Discover the Perfect Solution with Ou...   \n",
       "3    Subject: Assistance Needed: System Update Issu...   \n",
       "4    Subject: Exclusive Member Rewards & Savings Aw...   \n",
       "..                                                 ...   \n",
       "895  Subject: General Inquiry Regarding [Product/Se...   \n",
       "896  Subject: Unlock Exclusive Member Savings – Lim...   \n",
       "897  Subject: Share Your Experience with Us – We Va...   \n",
       "898  Subject: Exclusive VIP Preview: New Spring Col...   \n",
       "899  Subject: Share Your Experience - We Value Your...   \n",
       "\n",
       "                             labels  \n",
       "0    [0, 0, 1, 0, 0, 0, 0, 0, 0, 0]  \n",
       "1    [0, 0, 0, 0, 0, 0, 0, 0, 0, 1]  \n",
       "2    [0, 0, 0, 0, 1, 0, 0, 0, 0, 0]  \n",
       "3    [0, 1, 0, 0, 0, 0, 0, 0, 0, 0]  \n",
       "4    [0, 0, 0, 0, 0, 0, 0, 0, 1, 0]  \n",
       "..                              ...  \n",
       "895  [1, 0, 0, 0, 0, 0, 0, 0, 0, 0]  \n",
       "896  [0, 0, 0, 0, 0, 0, 0, 0, 1, 0]  \n",
       "897  [0, 0, 1, 0, 0, 0, 0, 0, 0, 0]  \n",
       "898  [0, 0, 0, 0, 0, 0, 0, 0, 1, 0]  \n",
       "899  [0, 0, 1, 0, 0, 0, 0, 0, 0, 0]  \n",
       "\n",
       "[900 rows x 2 columns]"
      ]
     },
     "execution_count": 10,
     "metadata": {},
     "output_type": "execute_result"
    }
   ],
   "source": [
    "train_data"
   ]
  },
  {
   "cell_type": "code",
   "execution_count": 11,
   "id": "ee5abb1e",
   "metadata": {
    "execution": {
     "iopub.execute_input": "2024-03-02T10:51:31.263765Z",
     "iopub.status.busy": "2024-03-02T10:51:31.262605Z",
     "iopub.status.idle": "2024-03-02T10:51:31.280264Z",
     "shell.execute_reply": "2024-03-02T10:51:31.279003Z"
    },
    "papermill": {
     "duration": 0.033685,
     "end_time": "2024-03-02T10:51:31.282693",
     "exception": false,
     "start_time": "2024-03-02T10:51:31.249008",
     "status": "completed"
    },
    "tags": []
   },
   "outputs": [
    {
     "data": {
      "text/html": [
       "<div>\n",
       "<style scoped>\n",
       "    .dataframe tbody tr th:only-of-type {\n",
       "        vertical-align: middle;\n",
       "    }\n",
       "\n",
       "    .dataframe tbody tr th {\n",
       "        vertical-align: top;\n",
       "    }\n",
       "\n",
       "    .dataframe thead th {\n",
       "        text-align: right;\n",
       "    }\n",
       "</style>\n",
       "<table border=\"1\" class=\"dataframe\">\n",
       "  <thead>\n",
       "    <tr style=\"text-align: right;\">\n",
       "      <th></th>\n",
       "      <th>mail</th>\n",
       "      <th>labels</th>\n",
       "    </tr>\n",
       "  </thead>\n",
       "  <tbody>\n",
       "    <tr>\n",
       "      <th>800</th>\n",
       "      <td>Subject: General Inquiry Regarding Product Inf...</td>\n",
       "      <td>[1, 0, 0, 0, 0, 0, 0, 0, 0, 0]</td>\n",
       "    </tr>\n",
       "    <tr>\n",
       "      <th>801</th>\n",
       "      <td>Subject: Explore Our Tailored Solutions and Ex...</td>\n",
       "      <td>[0, 0, 0, 0, 1, 0, 0, 0, 0, 0]</td>\n",
       "    </tr>\n",
       "    <tr>\n",
       "      <th>802</th>\n",
       "      <td>Subject: General Inquiry: Seeking Information ...</td>\n",
       "      <td>[1, 0, 0, 0, 0, 0, 0, 0, 0, 0]</td>\n",
       "    </tr>\n",
       "    <tr>\n",
       "      <th>803</th>\n",
       "      <td>Subject: Comprehensive Technical Support for S...</td>\n",
       "      <td>[0, 1, 0, 0, 0, 0, 0, 0, 0, 0]</td>\n",
       "    </tr>\n",
       "    <tr>\n",
       "      <th>804</th>\n",
       "      <td>Subject: Exciting Collaboration Opportunity: U...</td>\n",
       "      <td>[0, 0, 0, 0, 0, 1, 0, 0, 0, 0]</td>\n",
       "    </tr>\n",
       "    <tr>\n",
       "      <th>...</th>\n",
       "      <td>...</td>\n",
       "      <td>...</td>\n",
       "    </tr>\n",
       "    <tr>\n",
       "      <th>1132</th>\n",
       "      <td>Subject: Comprehensive Technical Support Solut...</td>\n",
       "      <td>[0, 1, 0, 0, 0, 0, 0, 0, 0, 0]</td>\n",
       "    </tr>\n",
       "    <tr>\n",
       "      <th>1133</th>\n",
       "      <td>Subject: Unlock Exclusive Savings with Our Lat...</td>\n",
       "      <td>[0, 0, 0, 0, 0, 0, 0, 0, 1, 0]</td>\n",
       "    </tr>\n",
       "    <tr>\n",
       "      <th>1134</th>\n",
       "      <td>Subject: Share Your Experience – We Value Your...</td>\n",
       "      <td>[0, 0, 1, 0, 0, 0, 0, 0, 0, 0]</td>\n",
       "    </tr>\n",
       "    <tr>\n",
       "      <th>1135</th>\n",
       "      <td>Subject: Share Your Experience with Us – We Va...</td>\n",
       "      <td>[0, 0, 1, 0, 0, 0, 0, 0, 0, 0]</td>\n",
       "    </tr>\n",
       "    <tr>\n",
       "      <th>1136</th>\n",
       "      <td>Subject: General Inquiry Concerning Product In...</td>\n",
       "      <td>[1, 0, 0, 0, 0, 0, 0, 0, 0, 0]</td>\n",
       "    </tr>\n",
       "  </tbody>\n",
       "</table>\n",
       "<p>337 rows × 2 columns</p>\n",
       "</div>"
      ],
      "text/plain": [
       "                                                   mail  \\\n",
       "800   Subject: General Inquiry Regarding Product Inf...   \n",
       "801   Subject: Explore Our Tailored Solutions and Ex...   \n",
       "802   Subject: General Inquiry: Seeking Information ...   \n",
       "803   Subject: Comprehensive Technical Support for S...   \n",
       "804   Subject: Exciting Collaboration Opportunity: U...   \n",
       "...                                                 ...   \n",
       "1132  Subject: Comprehensive Technical Support Solut...   \n",
       "1133  Subject: Unlock Exclusive Savings with Our Lat...   \n",
       "1134  Subject: Share Your Experience – We Value Your...   \n",
       "1135  Subject: Share Your Experience with Us – We Va...   \n",
       "1136  Subject: General Inquiry Concerning Product In...   \n",
       "\n",
       "                              labels  \n",
       "800   [1, 0, 0, 0, 0, 0, 0, 0, 0, 0]  \n",
       "801   [0, 0, 0, 0, 1, 0, 0, 0, 0, 0]  \n",
       "802   [1, 0, 0, 0, 0, 0, 0, 0, 0, 0]  \n",
       "803   [0, 1, 0, 0, 0, 0, 0, 0, 0, 0]  \n",
       "804   [0, 0, 0, 0, 0, 1, 0, 0, 0, 0]  \n",
       "...                              ...  \n",
       "1132  [0, 1, 0, 0, 0, 0, 0, 0, 0, 0]  \n",
       "1133  [0, 0, 0, 0, 0, 0, 0, 0, 1, 0]  \n",
       "1134  [0, 0, 1, 0, 0, 0, 0, 0, 0, 0]  \n",
       "1135  [0, 0, 1, 0, 0, 0, 0, 0, 0, 0]  \n",
       "1136  [1, 0, 0, 0, 0, 0, 0, 0, 0, 0]  \n",
       "\n",
       "[337 rows x 2 columns]"
      ]
     },
     "execution_count": 11,
     "metadata": {},
     "output_type": "execute_result"
    }
   ],
   "source": [
    "test_data"
   ]
  },
  {
   "cell_type": "code",
   "execution_count": 12,
   "id": "4b3b11ee",
   "metadata": {
    "execution": {
     "iopub.execute_input": "2024-03-02T10:51:31.309407Z",
     "iopub.status.busy": "2024-03-02T10:51:31.308929Z",
     "iopub.status.idle": "2024-03-02T10:51:31.316019Z",
     "shell.execute_reply": "2024-03-02T10:51:31.314725Z"
    },
    "papermill": {
     "duration": 0.02386,
     "end_time": "2024-03-02T10:51:31.318722",
     "exception": false,
     "start_time": "2024-03-02T10:51:31.294862",
     "status": "completed"
    },
    "tags": []
   },
   "outputs": [],
   "source": [
    "train_data.rename(columns={'mail': 'text'}, inplace=True)\n",
    "test_data.rename(columns={'mail': 'text'}, inplace=True)"
   ]
  },
  {
   "cell_type": "code",
   "execution_count": 13,
   "id": "c4928e40",
   "metadata": {
    "execution": {
     "iopub.execute_input": "2024-03-02T10:51:31.347057Z",
     "iopub.status.busy": "2024-03-02T10:51:31.346113Z",
     "iopub.status.idle": "2024-03-02T10:51:31.353069Z",
     "shell.execute_reply": "2024-03-02T10:51:31.352043Z"
    },
    "papermill": {
     "duration": 0.024719,
     "end_time": "2024-03-02T10:51:31.355876",
     "exception": false,
     "start_time": "2024-03-02T10:51:31.331157",
     "status": "completed"
    },
    "tags": []
   },
   "outputs": [],
   "source": [
    "test_data = test_data.reset_index(drop=True)"
   ]
  },
  {
   "cell_type": "code",
   "execution_count": 14,
   "id": "0c82ddf1",
   "metadata": {
    "execution": {
     "iopub.execute_input": "2024-03-02T10:51:31.387331Z",
     "iopub.status.busy": "2024-03-02T10:51:31.386539Z",
     "iopub.status.idle": "2024-03-02T10:51:31.405804Z",
     "shell.execute_reply": "2024-03-02T10:51:31.404578Z"
    },
    "papermill": {
     "duration": 0.037984,
     "end_time": "2024-03-02T10:51:31.408298",
     "exception": false,
     "start_time": "2024-03-02T10:51:31.370314",
     "status": "completed"
    },
    "tags": []
   },
   "outputs": [
    {
     "data": {
      "text/html": [
       "<div>\n",
       "<style scoped>\n",
       "    .dataframe tbody tr th:only-of-type {\n",
       "        vertical-align: middle;\n",
       "    }\n",
       "\n",
       "    .dataframe tbody tr th {\n",
       "        vertical-align: top;\n",
       "    }\n",
       "\n",
       "    .dataframe thead th {\n",
       "        text-align: right;\n",
       "    }\n",
       "</style>\n",
       "<table border=\"1\" class=\"dataframe\">\n",
       "  <thead>\n",
       "    <tr style=\"text-align: right;\">\n",
       "      <th></th>\n",
       "      <th>text</th>\n",
       "      <th>labels</th>\n",
       "    </tr>\n",
       "  </thead>\n",
       "  <tbody>\n",
       "    <tr>\n",
       "      <th>0</th>\n",
       "      <td>Subject: General Inquiry Regarding Product Inf...</td>\n",
       "      <td>[1, 0, 0, 0, 0, 0, 0, 0, 0, 0]</td>\n",
       "    </tr>\n",
       "    <tr>\n",
       "      <th>1</th>\n",
       "      <td>Subject: Explore Our Tailored Solutions and Ex...</td>\n",
       "      <td>[0, 0, 0, 0, 1, 0, 0, 0, 0, 0]</td>\n",
       "    </tr>\n",
       "    <tr>\n",
       "      <th>2</th>\n",
       "      <td>Subject: General Inquiry: Seeking Information ...</td>\n",
       "      <td>[1, 0, 0, 0, 0, 0, 0, 0, 0, 0]</td>\n",
       "    </tr>\n",
       "    <tr>\n",
       "      <th>3</th>\n",
       "      <td>Subject: Comprehensive Technical Support for S...</td>\n",
       "      <td>[0, 1, 0, 0, 0, 0, 0, 0, 0, 0]</td>\n",
       "    </tr>\n",
       "    <tr>\n",
       "      <th>4</th>\n",
       "      <td>Subject: Exciting Collaboration Opportunity: U...</td>\n",
       "      <td>[0, 0, 0, 0, 0, 1, 0, 0, 0, 0]</td>\n",
       "    </tr>\n",
       "    <tr>\n",
       "      <th>...</th>\n",
       "      <td>...</td>\n",
       "      <td>...</td>\n",
       "    </tr>\n",
       "    <tr>\n",
       "      <th>332</th>\n",
       "      <td>Subject: Comprehensive Technical Support Solut...</td>\n",
       "      <td>[0, 1, 0, 0, 0, 0, 0, 0, 0, 0]</td>\n",
       "    </tr>\n",
       "    <tr>\n",
       "      <th>333</th>\n",
       "      <td>Subject: Unlock Exclusive Savings with Our Lat...</td>\n",
       "      <td>[0, 0, 0, 0, 0, 0, 0, 0, 1, 0]</td>\n",
       "    </tr>\n",
       "    <tr>\n",
       "      <th>334</th>\n",
       "      <td>Subject: Share Your Experience – We Value Your...</td>\n",
       "      <td>[0, 0, 1, 0, 0, 0, 0, 0, 0, 0]</td>\n",
       "    </tr>\n",
       "    <tr>\n",
       "      <th>335</th>\n",
       "      <td>Subject: Share Your Experience with Us – We Va...</td>\n",
       "      <td>[0, 0, 1, 0, 0, 0, 0, 0, 0, 0]</td>\n",
       "    </tr>\n",
       "    <tr>\n",
       "      <th>336</th>\n",
       "      <td>Subject: General Inquiry Concerning Product In...</td>\n",
       "      <td>[1, 0, 0, 0, 0, 0, 0, 0, 0, 0]</td>\n",
       "    </tr>\n",
       "  </tbody>\n",
       "</table>\n",
       "<p>337 rows × 2 columns</p>\n",
       "</div>"
      ],
      "text/plain": [
       "                                                  text  \\\n",
       "0    Subject: General Inquiry Regarding Product Inf...   \n",
       "1    Subject: Explore Our Tailored Solutions and Ex...   \n",
       "2    Subject: General Inquiry: Seeking Information ...   \n",
       "3    Subject: Comprehensive Technical Support for S...   \n",
       "4    Subject: Exciting Collaboration Opportunity: U...   \n",
       "..                                                 ...   \n",
       "332  Subject: Comprehensive Technical Support Solut...   \n",
       "333  Subject: Unlock Exclusive Savings with Our Lat...   \n",
       "334  Subject: Share Your Experience – We Value Your...   \n",
       "335  Subject: Share Your Experience with Us – We Va...   \n",
       "336  Subject: General Inquiry Concerning Product In...   \n",
       "\n",
       "                             labels  \n",
       "0    [1, 0, 0, 0, 0, 0, 0, 0, 0, 0]  \n",
       "1    [0, 0, 0, 0, 1, 0, 0, 0, 0, 0]  \n",
       "2    [1, 0, 0, 0, 0, 0, 0, 0, 0, 0]  \n",
       "3    [0, 1, 0, 0, 0, 0, 0, 0, 0, 0]  \n",
       "4    [0, 0, 0, 0, 0, 1, 0, 0, 0, 0]  \n",
       "..                              ...  \n",
       "332  [0, 1, 0, 0, 0, 0, 0, 0, 0, 0]  \n",
       "333  [0, 0, 0, 0, 0, 0, 0, 0, 1, 0]  \n",
       "334  [0, 0, 1, 0, 0, 0, 0, 0, 0, 0]  \n",
       "335  [0, 0, 1, 0, 0, 0, 0, 0, 0, 0]  \n",
       "336  [1, 0, 0, 0, 0, 0, 0, 0, 0, 0]  \n",
       "\n",
       "[337 rows x 2 columns]"
      ]
     },
     "execution_count": 14,
     "metadata": {},
     "output_type": "execute_result"
    }
   ],
   "source": [
    "test_data"
   ]
  },
  {
   "cell_type": "code",
   "execution_count": 15,
   "id": "c6d97845",
   "metadata": {
    "execution": {
     "iopub.execute_input": "2024-03-02T10:51:31.436319Z",
     "iopub.status.busy": "2024-03-02T10:51:31.435836Z",
     "iopub.status.idle": "2024-03-02T10:51:31.447054Z",
     "shell.execute_reply": "2024-03-02T10:51:31.445652Z"
    },
    "papermill": {
     "duration": 0.028663,
     "end_time": "2024-03-02T10:51:31.449664",
     "exception": false,
     "start_time": "2024-03-02T10:51:31.421001",
     "status": "completed"
    },
    "tags": []
   },
   "outputs": [],
   "source": [
    "class MultiLabelDataset(Dataset):\n",
    "\n",
    "    def __init__(self, dataframe, tokenizer, max_len):\n",
    "        self.tokenizer = tokenizer\n",
    "        self.data = dataframe\n",
    "        self.text = dataframe.text\n",
    "        self.targets = self.data.labels\n",
    "        self.max_len = max_len\n",
    "\n",
    "    def __len__(self):\n",
    "        return len(self.text)\n",
    "\n",
    "    def __getitem__(self, index):\n",
    "        text = str(self.text[index])\n",
    "        text = \" \".join(text.split())\n",
    "\n",
    "        inputs = self.tokenizer.encode_plus(\n",
    "            text,\n",
    "            None,\n",
    "            add_special_tokens=True,\n",
    "            max_length=self.max_len,\n",
    "            pad_to_max_length=True,\n",
    "            return_token_type_ids=True\n",
    "        )\n",
    "        ids = inputs['input_ids']\n",
    "        mask = inputs['attention_mask']\n",
    "        token_type_ids = inputs[\"token_type_ids\"]\n",
    "\n",
    "\n",
    "        return {\n",
    "            'ids': torch.tensor(ids, dtype=torch.long),\n",
    "            'mask': torch.tensor(mask, dtype=torch.long),\n",
    "            'token_type_ids': torch.tensor(token_type_ids, dtype=torch.long),\n",
    "            'targets': torch.tensor(self.targets[index], dtype=torch.float)\n",
    "        }"
   ]
  },
  {
   "cell_type": "code",
   "execution_count": 16,
   "id": "f4a5785b",
   "metadata": {
    "execution": {
     "iopub.execute_input": "2024-03-02T10:51:31.477863Z",
     "iopub.status.busy": "2024-03-02T10:51:31.477397Z",
     "iopub.status.idle": "2024-03-02T10:51:31.483261Z",
     "shell.execute_reply": "2024-03-02T10:51:31.481998Z"
    },
    "papermill": {
     "duration": 0.023041,
     "end_time": "2024-03-02T10:51:31.485857",
     "exception": false,
     "start_time": "2024-03-02T10:51:31.462816",
     "status": "completed"
    },
    "tags": []
   },
   "outputs": [],
   "source": [
    "training_set = MultiLabelDataset(train_data, tokenizer, MAX_LEN)\n",
    "testing_set = MultiLabelDataset(test_data, tokenizer, MAX_LEN)"
   ]
  },
  {
   "cell_type": "code",
   "execution_count": 17,
   "id": "7a44e794",
   "metadata": {
    "execution": {
     "iopub.execute_input": "2024-03-02T10:51:31.515315Z",
     "iopub.status.busy": "2024-03-02T10:51:31.514870Z",
     "iopub.status.idle": "2024-03-02T10:51:31.521350Z",
     "shell.execute_reply": "2024-03-02T10:51:31.520050Z"
    },
    "papermill": {
     "duration": 0.024364,
     "end_time": "2024-03-02T10:51:31.523696",
     "exception": false,
     "start_time": "2024-03-02T10:51:31.499332",
     "status": "completed"
    },
    "tags": []
   },
   "outputs": [],
   "source": [
    "train_params = {'batch_size': TRAIN_BATCH_SIZE,\n",
    "                'shuffle': True,\n",
    "                'num_workers': 0\n",
    "                }\n",
    "\n",
    "test_params = {'batch_size': VALID_BATCH_SIZE,\n",
    "                'shuffle': True,\n",
    "                'num_workers': 0\n",
    "                }\n",
    "\n",
    "training_loader = DataLoader(training_set, **train_params)\n",
    "testing_loader = DataLoader(testing_set, **test_params)"
   ]
  },
  {
   "cell_type": "code",
   "execution_count": 18,
   "id": "32ba2f45",
   "metadata": {
    "execution": {
     "iopub.execute_input": "2024-03-02T10:51:31.552193Z",
     "iopub.status.busy": "2024-03-02T10:51:31.551715Z",
     "iopub.status.idle": "2024-03-02T10:51:35.706675Z",
     "shell.execute_reply": "2024-03-02T10:51:35.705284Z"
    },
    "papermill": {
     "duration": 4.171735,
     "end_time": "2024-03-02T10:51:35.708870",
     "exception": false,
     "start_time": "2024-03-02T10:51:31.537135",
     "status": "completed"
    },
    "tags": []
   },
   "outputs": [
    {
     "data": {
      "application/vnd.jupyter.widget-view+json": {
       "model_id": "a08f6772f95e41e99af038be3e4f5320",
       "version_major": 2,
       "version_minor": 0
      },
      "text/plain": [
       "model.safetensors:   0%|          | 0.00/268M [00:00<?, ?B/s]"
      ]
     },
     "metadata": {},
     "output_type": "display_data"
    },
    {
     "data": {
      "text/plain": [
       "DistilBERTClass(\n",
       "  (l1): DistilBertModel(\n",
       "    (embeddings): Embeddings(\n",
       "      (word_embeddings): Embedding(30522, 768, padding_idx=0)\n",
       "      (position_embeddings): Embedding(512, 768)\n",
       "      (LayerNorm): LayerNorm((768,), eps=1e-12, elementwise_affine=True)\n",
       "      (dropout): Dropout(p=0.1, inplace=False)\n",
       "    )\n",
       "    (transformer): Transformer(\n",
       "      (layer): ModuleList(\n",
       "        (0-5): 6 x TransformerBlock(\n",
       "          (attention): MultiHeadSelfAttention(\n",
       "            (dropout): Dropout(p=0.1, inplace=False)\n",
       "            (q_lin): Linear(in_features=768, out_features=768, bias=True)\n",
       "            (k_lin): Linear(in_features=768, out_features=768, bias=True)\n",
       "            (v_lin): Linear(in_features=768, out_features=768, bias=True)\n",
       "            (out_lin): Linear(in_features=768, out_features=768, bias=True)\n",
       "          )\n",
       "          (sa_layer_norm): LayerNorm((768,), eps=1e-12, elementwise_affine=True)\n",
       "          (ffn): FFN(\n",
       "            (dropout): Dropout(p=0.1, inplace=False)\n",
       "            (lin1): Linear(in_features=768, out_features=3072, bias=True)\n",
       "            (lin2): Linear(in_features=3072, out_features=768, bias=True)\n",
       "            (activation): GELUActivation()\n",
       "          )\n",
       "          (output_layer_norm): LayerNorm((768,), eps=1e-12, elementwise_affine=True)\n",
       "        )\n",
       "      )\n",
       "    )\n",
       "  )\n",
       "  (pre_classifier): Linear(in_features=768, out_features=768, bias=True)\n",
       "  (dropout): Dropout(p=0.1, inplace=False)\n",
       "  (classifier): Linear(in_features=768, out_features=10, bias=True)\n",
       ")"
      ]
     },
     "execution_count": 18,
     "metadata": {},
     "output_type": "execute_result"
    }
   ],
   "source": [
    "# Creating the customized model, by adding a drop out and a dense layer on top of distil bert to get the final output for the model. \n",
    "\n",
    "class DistilBERTClass(torch.nn.Module):\n",
    "    def __init__(self):\n",
    "        super(DistilBERTClass, self).__init__()\n",
    "        self.l1 = DistilBertModel.from_pretrained(\"distilbert-base-uncased\")\n",
    "        self.pre_classifier = torch.nn.Linear(768, 768)\n",
    "        self.dropout = torch.nn.Dropout(0.1)\n",
    "        self.classifier = torch.nn.Linear(768, 10)\n",
    "\n",
    "    def forward(self, input_ids, attention_mask, token_type_ids):\n",
    "        output_1 = self.l1(input_ids=input_ids, attention_mask=attention_mask)\n",
    "        hidden_state = output_1[0]\n",
    "        pooler = hidden_state[:, 0]\n",
    "        pooler = self.pre_classifier(pooler)\n",
    "        pooler = torch.nn.Tanh()(pooler)\n",
    "        pooler = self.dropout(pooler)\n",
    "        output = self.classifier(pooler)\n",
    "        return output\n",
    "\n",
    "model = DistilBERTClass()\n",
    "model.to(device)"
   ]
  },
  {
   "cell_type": "code",
   "execution_count": 19,
   "id": "370087fe",
   "metadata": {
    "execution": {
     "iopub.execute_input": "2024-03-02T10:51:35.737322Z",
     "iopub.status.busy": "2024-03-02T10:51:35.736265Z",
     "iopub.status.idle": "2024-03-02T10:51:35.742539Z",
     "shell.execute_reply": "2024-03-02T10:51:35.740605Z"
    },
    "papermill": {
     "duration": 0.023208,
     "end_time": "2024-03-02T10:51:35.745218",
     "exception": false,
     "start_time": "2024-03-02T10:51:35.722010",
     "status": "completed"
    },
    "tags": []
   },
   "outputs": [],
   "source": [
    "def loss_fn(outputs, targets):\n",
    "    return torch.nn.BCEWithLogitsLoss()(outputs, targets)"
   ]
  },
  {
   "cell_type": "code",
   "execution_count": 20,
   "id": "1c29d3c0",
   "metadata": {
    "execution": {
     "iopub.execute_input": "2024-03-02T10:51:35.773349Z",
     "iopub.status.busy": "2024-03-02T10:51:35.772360Z",
     "iopub.status.idle": "2024-03-02T10:51:35.779029Z",
     "shell.execute_reply": "2024-03-02T10:51:35.778130Z"
    },
    "papermill": {
     "duration": 0.023133,
     "end_time": "2024-03-02T10:51:35.781308",
     "exception": false,
     "start_time": "2024-03-02T10:51:35.758175",
     "status": "completed"
    },
    "tags": []
   },
   "outputs": [],
   "source": [
    "optimizer = torch.optim.Adam(params =  model.parameters(), lr=LEARNING_RATE)"
   ]
  },
  {
   "cell_type": "code",
   "execution_count": 21,
   "id": "24519618",
   "metadata": {
    "execution": {
     "iopub.execute_input": "2024-03-02T10:51:35.809583Z",
     "iopub.status.busy": "2024-03-02T10:51:35.809161Z",
     "iopub.status.idle": "2024-03-02T10:51:35.817890Z",
     "shell.execute_reply": "2024-03-02T10:51:35.816509Z"
    },
    "papermill": {
     "duration": 0.025808,
     "end_time": "2024-03-02T10:51:35.820151",
     "exception": false,
     "start_time": "2024-03-02T10:51:35.794343",
     "status": "completed"
    },
    "tags": []
   },
   "outputs": [],
   "source": [
    "def train(epoch):\n",
    "    model.train()\n",
    "    for _,data in tqdm(enumerate(training_loader, 0)):\n",
    "        ids = data['ids'].to(device, dtype = torch.long)\n",
    "        mask = data['mask'].to(device, dtype = torch.long)\n",
    "        token_type_ids = data['token_type_ids'].to(device, dtype = torch.long)\n",
    "        targets = data['targets'].to(device, dtype = torch.float)\n",
    "\n",
    "        outputs = model(ids, mask, token_type_ids)\n",
    "\n",
    "        optimizer.zero_grad()\n",
    "        loss = loss_fn(outputs, targets)\n",
    "        if _%5000==0:\n",
    "            print(f'Epoch: {epoch}, Loss:  {loss.item()}')\n",
    "        \n",
    "        loss.backward()\n",
    "        optimizer.step()"
   ]
  },
  {
   "cell_type": "code",
   "execution_count": 22,
   "id": "beb3ae16",
   "metadata": {
    "execution": {
     "iopub.execute_input": "2024-03-02T10:51:35.849870Z",
     "iopub.status.busy": "2024-03-02T10:51:35.849457Z",
     "iopub.status.idle": "2024-03-02T11:13:38.330605Z",
     "shell.execute_reply": "2024-03-02T11:13:38.329417Z"
    },
    "papermill": {
     "duration": 1322.498988,
     "end_time": "2024-03-02T11:13:38.333461",
     "exception": false,
     "start_time": "2024-03-02T10:51:35.834473",
     "status": "completed"
    },
    "tags": []
   },
   "outputs": [
    {
     "name": "stderr",
     "output_type": "stream",
     "text": [
      "0it [00:00, ?it/s]Truncation was not explicitly activated but `max_length` is provided a specific value, please use `truncation=True` to explicitly truncate examples to max length. Defaulting to 'longest_first' truncation strategy. If you encode pairs of sequences (GLUE-style) with the tokenizer you can select this strategy more precisely by providing a specific strategy to `truncation`.\n"
     ]
    },
    {
     "name": "stdout",
     "output_type": "stream",
     "text": [
      "Epoch: 0, Loss:  0.6934596300125122\n"
     ]
    },
    {
     "name": "stderr",
     "output_type": "stream",
     "text": [
      "900it [10:58,  1.37it/s]\n",
      "0it [00:00, ?it/s]"
     ]
    },
    {
     "name": "stdout",
     "output_type": "stream",
     "text": [
      "Epoch: 1, Loss:  0.07908573001623154\n"
     ]
    },
    {
     "name": "stderr",
     "output_type": "stream",
     "text": [
      "900it [11:03,  1.36it/s]\n"
     ]
    }
   ],
   "source": [
    "for epoch in range(EPOCHS):\n",
    "    train(epoch)"
   ]
  },
  {
   "cell_type": "code",
   "execution_count": 23,
   "id": "44f46c1d",
   "metadata": {
    "execution": {
     "iopub.execute_input": "2024-03-02T11:13:38.693631Z",
     "iopub.status.busy": "2024-03-02T11:13:38.692433Z",
     "iopub.status.idle": "2024-03-02T11:13:38.702021Z",
     "shell.execute_reply": "2024-03-02T11:13:38.700877Z"
    },
    "papermill": {
     "duration": 0.191824,
     "end_time": "2024-03-02T11:13:38.704352",
     "exception": false,
     "start_time": "2024-03-02T11:13:38.512528",
     "status": "completed"
    },
    "tags": []
   },
   "outputs": [],
   "source": [
    "def validation(tl):\n",
    "    model.eval()\n",
    "    fin_targets=[]\n",
    "    fin_outputs=[]\n",
    "    with torch.no_grad():\n",
    "        for _, data in tqdm(enumerate(tl, 0)):\n",
    "            ids = data['ids'].to(device, dtype = torch.long)\n",
    "            mask = data['mask'].to(device, dtype = torch.long)\n",
    "            token_type_ids = data['token_type_ids'].to(device, dtype = torch.long)\n",
    "            targets = data['targets'].to(device, dtype = torch.float)\n",
    "            outputs = model(ids, mask, token_type_ids)\n",
    "            fin_targets.extend(targets.cpu().detach().numpy().tolist())\n",
    "            fin_outputs.extend(torch.sigmoid(outputs).cpu().detach().numpy().tolist())\n",
    "    return fin_outputs, fin_targets"
   ]
  },
  {
   "cell_type": "code",
   "execution_count": 24,
   "id": "7014e803",
   "metadata": {
    "execution": {
     "iopub.execute_input": "2024-03-02T11:13:39.129834Z",
     "iopub.status.busy": "2024-03-02T11:13:39.129181Z",
     "iopub.status.idle": "2024-03-02T11:14:24.094303Z",
     "shell.execute_reply": "2024-03-02T11:14:24.093133Z"
    },
    "papermill": {
     "duration": 45.214616,
     "end_time": "2024-03-02T11:14:24.096702",
     "exception": false,
     "start_time": "2024-03-02T11:13:38.882086",
     "status": "completed"
    },
    "tags": []
   },
   "outputs": [
    {
     "name": "stderr",
     "output_type": "stream",
     "text": [
      "337it [00:44,  7.50it/s]\n"
     ]
    }
   ],
   "source": [
    "outputs, targets = validation(testing_loader)\n",
    "\n",
    "final_outputs = np.array(outputs) >=0.5"
   ]
  },
  {
   "cell_type": "code",
   "execution_count": 25,
   "id": "72074803",
   "metadata": {
    "execution": {
     "iopub.execute_input": "2024-03-02T11:14:24.520256Z",
     "iopub.status.busy": "2024-03-02T11:14:24.519848Z",
     "iopub.status.idle": "2024-03-02T11:14:24.536300Z",
     "shell.execute_reply": "2024-03-02T11:14:24.534884Z"
    },
    "papermill": {
     "duration": 0.23005,
     "end_time": "2024-03-02T11:14:24.538642",
     "exception": false,
     "start_time": "2024-03-02T11:14:24.308592",
     "status": "completed"
    },
    "tags": []
   },
   "outputs": [
    {
     "name": "stdout",
     "output_type": "stream",
     "text": [
      "Hamming Score = 0.9985163204747775\n",
      "Hamming Loss = 0.0002967359050445104\n"
     ]
    }
   ],
   "source": [
    "val_hamming_loss = metrics.hamming_loss(targets, final_outputs)\n",
    "val_hamming_score = hamming_score(np.array(targets), np.array(final_outputs))\n",
    "\n",
    "print(f\"Hamming Score = {val_hamming_score}\")\n",
    "print(f\"Hamming Loss = {val_hamming_loss}\")"
   ]
  },
  {
   "cell_type": "code",
   "execution_count": 26,
   "id": "894a6a02",
   "metadata": {
    "execution": {
     "iopub.execute_input": "2024-03-02T11:14:24.959251Z",
     "iopub.status.busy": "2024-03-02T11:14:24.958834Z",
     "iopub.status.idle": "2024-03-02T11:14:24.965609Z",
     "shell.execute_reply": "2024-03-02T11:14:24.964312Z"
    },
    "papermill": {
     "duration": 0.21928,
     "end_time": "2024-03-02T11:14:24.968018",
     "exception": false,
     "start_time": "2024-03-02T11:14:24.748738",
     "status": "completed"
    },
    "tags": []
   },
   "outputs": [],
   "source": [
    "def return_loader(data):\n",
    "    tokenizer = DistilBertTokenizer.from_pretrained('distilbert-base-uncased', truncation=True, do_lower_case=True)\n",
    "    data_set = MultiLabelDataset(data, tokenizer, 128)\n",
    "    \n",
    "    test_params = {'batch_size': VALID_BATCH_SIZE,\n",
    "                'shuffle': True,\n",
    "                'num_workers': 0\n",
    "                }\n",
    "    \n",
    "    data_loader  = DataLoader(data_set, **test_params)\n",
    "    return data_loader"
   ]
  },
  {
   "cell_type": "code",
   "execution_count": 27,
   "id": "18a2ad6b",
   "metadata": {
    "execution": {
     "iopub.execute_input": "2024-03-02T11:14:25.388907Z",
     "iopub.status.busy": "2024-03-02T11:14:25.388486Z",
     "iopub.status.idle": "2024-03-02T11:14:25.736952Z",
     "shell.execute_reply": "2024-03-02T11:14:25.735772Z"
    },
    "papermill": {
     "duration": 0.562298,
     "end_time": "2024-03-02T11:14:25.739660",
     "exception": false,
     "start_time": "2024-03-02T11:14:25.177362",
     "status": "completed"
    },
    "tags": []
   },
   "outputs": [],
   "source": [
    "islam = train_data.iloc[2:3].reset_index(drop=True)\n",
    "islam_loader = return_loader(islam)"
   ]
  },
  {
   "cell_type": "code",
   "execution_count": 28,
   "id": "23052034",
   "metadata": {
    "execution": {
     "iopub.execute_input": "2024-03-02T11:14:26.161870Z",
     "iopub.status.busy": "2024-03-02T11:14:26.161458Z",
     "iopub.status.idle": "2024-03-02T11:14:26.167333Z",
     "shell.execute_reply": "2024-03-02T11:14:26.166322Z"
    },
    "papermill": {
     "duration": 0.220569,
     "end_time": "2024-03-02T11:14:26.169592",
     "exception": false,
     "start_time": "2024-03-02T11:14:25.949023",
     "status": "completed"
    },
    "tags": []
   },
   "outputs": [
    {
     "name": "stdout",
     "output_type": "stream",
     "text": [
      "Subject: Discover the Perfect Solution with Our Customized Product Offers\n",
      "\n",
      "Dear [Client Name],\n",
      "\n",
      "Thank you for reaching out with your interest in our products and services. We understand that finding the perfect solution tailored to your needs is essential. Our extensive catalog offers a wide range of options, from standard features to advanced customization and configurations, ensuring compatibility, efficiency, and performance that meets the specific demands of your industry niche.\n",
      "\n",
      "Would you be interested in receiving a detailed quotation or a comprehensive proposal? We offer competitive pricing, special discounts on bundles, and financing options to accommodate different budget requirements. Additionally, we can arrange for a trial or demo to evaluate our product's compatibility with your current systems and its potential to optimize your operations.\n",
      "\n",
      "We value your considerations regarding warranty, support, and after-sales service. Rest assured, we stand behind our products with a solid guarantee and customer-centric return and exchange policies. Our aim is to forge a long-lasting partnership built on trust, reliability, and the provision of high-quality solutions.\n",
      "\n",
      "For a clearer picture of what we have to offer, we can send over a brochure and a sample for your perusal. We're also open to negotiation to ensure the terms and conditions satisfy your business requirements.\n",
      "\n",
      "Please let us know a convenient time for a follow-up discussion. Our team is eager to work with you to craft a personalized package that delivers value, savings, and an excellent user experience.\n",
      "\n",
      "Looking forward to your response.\n",
      "\n",
      "Best regards,\n",
      "\n",
      "[Your Name]\n",
      "[Your Position]\n",
      "[Company Name]\n",
      "[Contact Information]\n"
     ]
    }
   ],
   "source": [
    "for e in train_data.iloc[2:3]['text']:\n",
    "    print(e)\n",
    "    break"
   ]
  },
  {
   "cell_type": "code",
   "execution_count": 29,
   "id": "b4b75165",
   "metadata": {
    "execution": {
     "iopub.execute_input": "2024-03-02T11:14:26.591770Z",
     "iopub.status.busy": "2024-03-02T11:14:26.591347Z",
     "iopub.status.idle": "2024-03-02T11:14:26.600394Z",
     "shell.execute_reply": "2024-03-02T11:14:26.598668Z"
    },
    "papermill": {
     "duration": 0.223475,
     "end_time": "2024-03-02T11:14:26.602992",
     "exception": false,
     "start_time": "2024-03-02T11:14:26.379517",
     "status": "completed"
    },
    "tags": []
   },
   "outputs": [],
   "source": [
    "def prediction(data):\n",
    "    islam_loader = return_loader(data)\n",
    "    for data in islam_loader:\n",
    "        ids = data['ids'].to(device, dtype = torch.long)\n",
    "        mask = data['mask'].to(device, dtype = torch.long)\n",
    "        token_type_ids = data['token_type_ids'].to(device, dtype = torch.long)\n",
    "        targets = data['targets'].to(device, dtype = torch.float)\n",
    "        outputs = model(ids, mask, token_type_ids)\n",
    "        proba = torch.softmax(torch.tensor(outputs), dim=1)\n",
    "        result = np.array(proba)\n",
    "        return result"
   ]
  },
  {
   "cell_type": "code",
   "execution_count": 30,
   "id": "74d5e264",
   "metadata": {
    "execution": {
     "iopub.execute_input": "2024-03-02T11:14:27.026246Z",
     "iopub.status.busy": "2024-03-02T11:14:27.025873Z",
     "iopub.status.idle": "2024-03-02T11:14:27.459499Z",
     "shell.execute_reply": "2024-03-02T11:14:27.458324Z"
    },
    "papermill": {
     "duration": 0.648241,
     "end_time": "2024-03-02T11:14:27.462007",
     "exception": false,
     "start_time": "2024-03-02T11:14:26.813766",
     "status": "completed"
    },
    "tags": []
   },
   "outputs": [
    {
     "name": "stderr",
     "output_type": "stream",
     "text": [
      "Truncation was not explicitly activated but `max_length` is provided a specific value, please use `truncation=True` to explicitly truncate examples to max length. Defaulting to 'longest_first' truncation strategy. If you encode pairs of sequences (GLUE-style) with the tokenizer you can select this strategy more precisely by providing a specific strategy to `truncation`.\n"
     ]
    },
    {
     "data": {
      "text/plain": [
       "(1, 10)"
      ]
     },
     "execution_count": 30,
     "metadata": {},
     "output_type": "execute_result"
    }
   ],
   "source": [
    "prediction(train_data.iloc[2:3].reset_index(drop=True)).shape"
   ]
  },
  {
   "cell_type": "code",
   "execution_count": 31,
   "id": "a8f4c1ee",
   "metadata": {
    "execution": {
     "iopub.execute_input": "2024-03-02T11:14:27.955225Z",
     "iopub.status.busy": "2024-03-02T11:14:27.954177Z",
     "iopub.status.idle": "2024-03-02T11:14:27.964779Z",
     "shell.execute_reply": "2024-03-02T11:14:27.963746Z"
    },
    "papermill": {
     "duration": 0.293462,
     "end_time": "2024-03-02T11:14:27.966957",
     "exception": false,
     "start_time": "2024-03-02T11:14:27.673495",
     "status": "completed"
    },
    "tags": []
   },
   "outputs": [
    {
     "data": {
      "text/html": [
       "<div>\n",
       "<style scoped>\n",
       "    .dataframe tbody tr th:only-of-type {\n",
       "        vertical-align: middle;\n",
       "    }\n",
       "\n",
       "    .dataframe tbody tr th {\n",
       "        vertical-align: top;\n",
       "    }\n",
       "\n",
       "    .dataframe thead th {\n",
       "        text-align: right;\n",
       "    }\n",
       "</style>\n",
       "<table border=\"1\" class=\"dataframe\">\n",
       "  <thead>\n",
       "    <tr style=\"text-align: right;\">\n",
       "      <th></th>\n",
       "      <th>text</th>\n",
       "      <th>labels</th>\n",
       "    </tr>\n",
       "  </thead>\n",
       "  <tbody>\n",
       "    <tr>\n",
       "      <th>2</th>\n",
       "      <td>Subject: Discover the Perfect Solution with Ou...</td>\n",
       "      <td>[0, 0, 0, 0, 1, 0, 0, 0, 0, 0]</td>\n",
       "    </tr>\n",
       "  </tbody>\n",
       "</table>\n",
       "</div>"
      ],
      "text/plain": [
       "                                                text  \\\n",
       "2  Subject: Discover the Perfect Solution with Ou...   \n",
       "\n",
       "                           labels  \n",
       "2  [0, 0, 0, 0, 1, 0, 0, 0, 0, 0]  "
      ]
     },
     "execution_count": 31,
     "metadata": {},
     "output_type": "execute_result"
    }
   ],
   "source": [
    "train_data.iloc[2:3]"
   ]
  },
  {
   "cell_type": "code",
   "execution_count": 32,
   "id": "e2c4b04c",
   "metadata": {
    "execution": {
     "iopub.execute_input": "2024-03-02T11:14:28.392071Z",
     "iopub.status.busy": "2024-03-02T11:14:28.391448Z",
     "iopub.status.idle": "2024-03-02T11:14:28.770785Z",
     "shell.execute_reply": "2024-03-02T11:14:28.769771Z"
    },
    "papermill": {
     "duration": 0.595034,
     "end_time": "2024-03-02T11:14:28.773181",
     "exception": false,
     "start_time": "2024-03-02T11:14:28.178147",
     "status": "completed"
    },
    "tags": []
   },
   "outputs": [
    {
     "data": {
      "text/plain": [
       "('vobac.pt',)"
      ]
     },
     "execution_count": 32,
     "metadata": {},
     "output_type": "execute_result"
    }
   ],
   "source": [
    "output_model_file = 'my_model.pt'\n",
    "output_vocab_file = 'vobac.pt'\n",
    "\n",
    "torch.save(model, output_model_file)\n",
    "tokenizer.save_vocabulary(output_vocab_file)"
   ]
  }
 ],
 "metadata": {
  "kaggle": {
   "accelerator": "none",
   "dataSources": [
    {
     "datasetId": 4524043,
     "sourceId": 7740354,
     "sourceType": "datasetVersion"
    }
   ],
   "dockerImageVersionId": 30664,
   "isGpuEnabled": false,
   "isInternetEnabled": true,
   "language": "python",
   "sourceType": "notebook"
  },
  "kernelspec": {
   "display_name": "Python 3",
   "language": "python",
   "name": "python3"
  },
  "language_info": {
   "codemirror_mode": {
    "name": "ipython",
    "version": 3
   },
   "file_extension": ".py",
   "mimetype": "text/x-python",
   "name": "python",
   "nbconvert_exporter": "python",
   "pygments_lexer": "ipython3",
   "version": "3.10.13"
  },
  "papermill": {
   "default_parameters": {},
   "duration": 1397.911927,
   "end_time": "2024-03-02T11:14:31.379001",
   "environment_variables": {},
   "exception": null,
   "input_path": "__notebook__.ipynb",
   "output_path": "__notebook__.ipynb",
   "parameters": {},
   "start_time": "2024-03-02T10:51:13.467074",
   "version": "2.5.0"
  },
  "widgets": {
   "application/vnd.jupyter.widget-state+json": {
    "state": {
     "00fe3cd9ce1041eab01094cee2a9a44c": {
      "model_module": "@jupyter-widgets/controls",
      "model_module_version": "1.5.0",
      "model_name": "DescriptionStyleModel",
      "state": {
       "_model_module": "@jupyter-widgets/controls",
       "_model_module_version": "1.5.0",
       "_model_name": "DescriptionStyleModel",
       "_view_count": null,
       "_view_module": "@jupyter-widgets/base",
       "_view_module_version": "1.2.0",
       "_view_name": "StyleView",
       "description_width": ""
      }
     },
     "01824f39eb92451490ea0c6b63986135": {
      "model_module": "@jupyter-widgets/base",
      "model_module_version": "1.2.0",
      "model_name": "LayoutModel",
      "state": {
       "_model_module": "@jupyter-widgets/base",
       "_model_module_version": "1.2.0",
       "_model_name": "LayoutModel",
       "_view_count": null,
       "_view_module": "@jupyter-widgets/base",
       "_view_module_version": "1.2.0",
       "_view_name": "LayoutView",
       "align_content": null,
       "align_items": null,
       "align_self": null,
       "border": null,
       "bottom": null,
       "display": null,
       "flex": null,
       "flex_flow": null,
       "grid_area": null,
       "grid_auto_columns": null,
       "grid_auto_flow": null,
       "grid_auto_rows": null,
       "grid_column": null,
       "grid_gap": null,
       "grid_row": null,
       "grid_template_areas": null,
       "grid_template_columns": null,
       "grid_template_rows": null,
       "height": null,
       "justify_content": null,
       "justify_items": null,
       "left": null,
       "margin": null,
       "max_height": null,
       "max_width": null,
       "min_height": null,
       "min_width": null,
       "object_fit": null,
       "object_position": null,
       "order": null,
       "overflow": null,
       "overflow_x": null,
       "overflow_y": null,
       "padding": null,
       "right": null,
       "top": null,
       "visibility": null,
       "width": null
      }
     },
     "01c02769ad1345ef9f1bc5ef0fda2831": {
      "model_module": "@jupyter-widgets/controls",
      "model_module_version": "1.5.0",
      "model_name": "HTMLModel",
      "state": {
       "_dom_classes": [],
       "_model_module": "@jupyter-widgets/controls",
       "_model_module_version": "1.5.0",
       "_model_name": "HTMLModel",
       "_view_count": null,
       "_view_module": "@jupyter-widgets/controls",
       "_view_module_version": "1.5.0",
       "_view_name": "HTMLView",
       "description": "",
       "description_tooltip": null,
       "layout": "IPY_MODEL_c73e9e523bae464d85bc8216d4fa30e0",
       "placeholder": "​",
       "style": "IPY_MODEL_22171d55f1764d37975216af8702ce0d",
       "value": "vocab.txt: 100%"
      }
     },
     "0645e0347a8f4624b0244d34d67abda3": {
      "model_module": "@jupyter-widgets/controls",
      "model_module_version": "1.5.0",
      "model_name": "HBoxModel",
      "state": {
       "_dom_classes": [],
       "_model_module": "@jupyter-widgets/controls",
       "_model_module_version": "1.5.0",
       "_model_name": "HBoxModel",
       "_view_count": null,
       "_view_module": "@jupyter-widgets/controls",
       "_view_module_version": "1.5.0",
       "_view_name": "HBoxView",
       "box_style": "",
       "children": [
        "IPY_MODEL_69138333e5074abba28f6d6a5a30d149",
        "IPY_MODEL_e6f173f19a424582802e5477c847975c",
        "IPY_MODEL_c2fe55d13fdb456baef2bdeabf4676bc"
       ],
       "layout": "IPY_MODEL_f5c010029bc140acacaf08d935f748bf"
      }
     },
     "11416c25a8e34060a20f2cbd996617a5": {
      "model_module": "@jupyter-widgets/controls",
      "model_module_version": "1.5.0",
      "model_name": "DescriptionStyleModel",
      "state": {
       "_model_module": "@jupyter-widgets/controls",
       "_model_module_version": "1.5.0",
       "_model_name": "DescriptionStyleModel",
       "_view_count": null,
       "_view_module": "@jupyter-widgets/base",
       "_view_module_version": "1.2.0",
       "_view_name": "StyleView",
       "description_width": ""
      }
     },
     "17da2dfb6f0b44daa9a48be79d66a875": {
      "model_module": "@jupyter-widgets/controls",
      "model_module_version": "1.5.0",
      "model_name": "ProgressStyleModel",
      "state": {
       "_model_module": "@jupyter-widgets/controls",
       "_model_module_version": "1.5.0",
       "_model_name": "ProgressStyleModel",
       "_view_count": null,
       "_view_module": "@jupyter-widgets/base",
       "_view_module_version": "1.2.0",
       "_view_name": "StyleView",
       "bar_color": null,
       "description_width": ""
      }
     },
     "1bcd63856f2c4104b0acb7f6b9c19ad8": {
      "model_module": "@jupyter-widgets/controls",
      "model_module_version": "1.5.0",
      "model_name": "FloatProgressModel",
      "state": {
       "_dom_classes": [],
       "_model_module": "@jupyter-widgets/controls",
       "_model_module_version": "1.5.0",
       "_model_name": "FloatProgressModel",
       "_view_count": null,
       "_view_module": "@jupyter-widgets/controls",
       "_view_module_version": "1.5.0",
       "_view_name": "ProgressView",
       "bar_style": "success",
       "description": "",
       "description_tooltip": null,
       "layout": "IPY_MODEL_6cf543d765164094aa67fcf253f2074f",
       "max": 267954768.0,
       "min": 0.0,
       "orientation": "horizontal",
       "style": "IPY_MODEL_c1124068673644349c1d47369e23bef7",
       "value": 267954768.0
      }
     },
     "22171d55f1764d37975216af8702ce0d": {
      "model_module": "@jupyter-widgets/controls",
      "model_module_version": "1.5.0",
      "model_name": "DescriptionStyleModel",
      "state": {
       "_model_module": "@jupyter-widgets/controls",
       "_model_module_version": "1.5.0",
       "_model_name": "DescriptionStyleModel",
       "_view_count": null,
       "_view_module": "@jupyter-widgets/base",
       "_view_module_version": "1.2.0",
       "_view_name": "StyleView",
       "description_width": ""
      }
     },
     "246b85b698604b22ad7d0de3833f77ac": {
      "model_module": "@jupyter-widgets/controls",
      "model_module_version": "1.5.0",
      "model_name": "HTMLModel",
      "state": {
       "_dom_classes": [],
       "_model_module": "@jupyter-widgets/controls",
       "_model_module_version": "1.5.0",
       "_model_name": "HTMLModel",
       "_view_count": null,
       "_view_module": "@jupyter-widgets/controls",
       "_view_module_version": "1.5.0",
       "_view_name": "HTMLView",
       "description": "",
       "description_tooltip": null,
       "layout": "IPY_MODEL_f94d67ef7e3d46e485e5a46a4fca9700",
       "placeholder": "​",
       "style": "IPY_MODEL_d7e80306a83c4a508cddc6bc1db30781",
       "value": "tokenizer_config.json: 100%"
      }
     },
     "267c6bdebc764e0db9dcf72a0fbfeb45": {
      "model_module": "@jupyter-widgets/controls",
      "model_module_version": "1.5.0",
      "model_name": "HBoxModel",
      "state": {
       "_dom_classes": [],
       "_model_module": "@jupyter-widgets/controls",
       "_model_module_version": "1.5.0",
       "_model_name": "HBoxModel",
       "_view_count": null,
       "_view_module": "@jupyter-widgets/controls",
       "_view_module_version": "1.5.0",
       "_view_name": "HBoxView",
       "box_style": "",
       "children": [
        "IPY_MODEL_01c02769ad1345ef9f1bc5ef0fda2831",
        "IPY_MODEL_e4b8398746314354b014ebd1fa7f4c97",
        "IPY_MODEL_9ebe13f509d64ab1886212277b482cd7"
       ],
       "layout": "IPY_MODEL_744bd4cc9a75427a969cf652b4a66985"
      }
     },
     "2e1756b79cad4be096201d6d9f2d93cc": {
      "model_module": "@jupyter-widgets/controls",
      "model_module_version": "1.5.0",
      "model_name": "DescriptionStyleModel",
      "state": {
       "_model_module": "@jupyter-widgets/controls",
       "_model_module_version": "1.5.0",
       "_model_name": "DescriptionStyleModel",
       "_view_count": null,
       "_view_module": "@jupyter-widgets/base",
       "_view_module_version": "1.2.0",
       "_view_name": "StyleView",
       "description_width": ""
      }
     },
     "37bdb6eb017749a6809eb4815e760047": {
      "model_module": "@jupyter-widgets/base",
      "model_module_version": "1.2.0",
      "model_name": "LayoutModel",
      "state": {
       "_model_module": "@jupyter-widgets/base",
       "_model_module_version": "1.2.0",
       "_model_name": "LayoutModel",
       "_view_count": null,
       "_view_module": "@jupyter-widgets/base",
       "_view_module_version": "1.2.0",
       "_view_name": "LayoutView",
       "align_content": null,
       "align_items": null,
       "align_self": null,
       "border": null,
       "bottom": null,
       "display": null,
       "flex": null,
       "flex_flow": null,
       "grid_area": null,
       "grid_auto_columns": null,
       "grid_auto_flow": null,
       "grid_auto_rows": null,
       "grid_column": null,
       "grid_gap": null,
       "grid_row": null,
       "grid_template_areas": null,
       "grid_template_columns": null,
       "grid_template_rows": null,
       "height": null,
       "justify_content": null,
       "justify_items": null,
       "left": null,
       "margin": null,
       "max_height": null,
       "max_width": null,
       "min_height": null,
       "min_width": null,
       "object_fit": null,
       "object_position": null,
       "order": null,
       "overflow": null,
       "overflow_x": null,
       "overflow_y": null,
       "padding": null,
       "right": null,
       "top": null,
       "visibility": null,
       "width": null
      }
     },
     "45350cc843f44dc88dc99efa871e1207": {
      "model_module": "@jupyter-widgets/controls",
      "model_module_version": "1.5.0",
      "model_name": "ProgressStyleModel",
      "state": {
       "_model_module": "@jupyter-widgets/controls",
       "_model_module_version": "1.5.0",
       "_model_name": "ProgressStyleModel",
       "_view_count": null,
       "_view_module": "@jupyter-widgets/base",
       "_view_module_version": "1.2.0",
       "_view_name": "StyleView",
       "bar_color": null,
       "description_width": ""
      }
     },
     "458fb248ceb84e388b7f6ce024ad8abd": {
      "model_module": "@jupyter-widgets/base",
      "model_module_version": "1.2.0",
      "model_name": "LayoutModel",
      "state": {
       "_model_module": "@jupyter-widgets/base",
       "_model_module_version": "1.2.0",
       "_model_name": "LayoutModel",
       "_view_count": null,
       "_view_module": "@jupyter-widgets/base",
       "_view_module_version": "1.2.0",
       "_view_name": "LayoutView",
       "align_content": null,
       "align_items": null,
       "align_self": null,
       "border": null,
       "bottom": null,
       "display": null,
       "flex": null,
       "flex_flow": null,
       "grid_area": null,
       "grid_auto_columns": null,
       "grid_auto_flow": null,
       "grid_auto_rows": null,
       "grid_column": null,
       "grid_gap": null,
       "grid_row": null,
       "grid_template_areas": null,
       "grid_template_columns": null,
       "grid_template_rows": null,
       "height": null,
       "justify_content": null,
       "justify_items": null,
       "left": null,
       "margin": null,
       "max_height": null,
       "max_width": null,
       "min_height": null,
       "min_width": null,
       "object_fit": null,
       "object_position": null,
       "order": null,
       "overflow": null,
       "overflow_x": null,
       "overflow_y": null,
       "padding": null,
       "right": null,
       "top": null,
       "visibility": null,
       "width": null
      }
     },
     "462c5c66068f49648ef5725b1f1e68f6": {
      "model_module": "@jupyter-widgets/controls",
      "model_module_version": "1.5.0",
      "model_name": "FloatProgressModel",
      "state": {
       "_dom_classes": [],
       "_model_module": "@jupyter-widgets/controls",
       "_model_module_version": "1.5.0",
       "_model_name": "FloatProgressModel",
       "_view_count": null,
       "_view_module": "@jupyter-widgets/controls",
       "_view_module_version": "1.5.0",
       "_view_name": "ProgressView",
       "bar_style": "success",
       "description": "",
       "description_tooltip": null,
       "layout": "IPY_MODEL_84cb94b6b654448fbc81804cb4a892e2",
       "max": 466062.0,
       "min": 0.0,
       "orientation": "horizontal",
       "style": "IPY_MODEL_be35a125835c4526859998dca2e290bd",
       "value": 466062.0
      }
     },
     "50c73ab75dea495696eb30a5dfed3545": {
      "model_module": "@jupyter-widgets/base",
      "model_module_version": "1.2.0",
      "model_name": "LayoutModel",
      "state": {
       "_model_module": "@jupyter-widgets/base",
       "_model_module_version": "1.2.0",
       "_model_name": "LayoutModel",
       "_view_count": null,
       "_view_module": "@jupyter-widgets/base",
       "_view_module_version": "1.2.0",
       "_view_name": "LayoutView",
       "align_content": null,
       "align_items": null,
       "align_self": null,
       "border": null,
       "bottom": null,
       "display": null,
       "flex": null,
       "flex_flow": null,
       "grid_area": null,
       "grid_auto_columns": null,
       "grid_auto_flow": null,
       "grid_auto_rows": null,
       "grid_column": null,
       "grid_gap": null,
       "grid_row": null,
       "grid_template_areas": null,
       "grid_template_columns": null,
       "grid_template_rows": null,
       "height": null,
       "justify_content": null,
       "justify_items": null,
       "left": null,
       "margin": null,
       "max_height": null,
       "max_width": null,
       "min_height": null,
       "min_width": null,
       "object_fit": null,
       "object_position": null,
       "order": null,
       "overflow": null,
       "overflow_x": null,
       "overflow_y": null,
       "padding": null,
       "right": null,
       "top": null,
       "visibility": null,
       "width": null
      }
     },
     "511f0b30cf974841958a1c7b7b0c1576": {
      "model_module": "@jupyter-widgets/base",
      "model_module_version": "1.2.0",
      "model_name": "LayoutModel",
      "state": {
       "_model_module": "@jupyter-widgets/base",
       "_model_module_version": "1.2.0",
       "_model_name": "LayoutModel",
       "_view_count": null,
       "_view_module": "@jupyter-widgets/base",
       "_view_module_version": "1.2.0",
       "_view_name": "LayoutView",
       "align_content": null,
       "align_items": null,
       "align_self": null,
       "border": null,
       "bottom": null,
       "display": null,
       "flex": null,
       "flex_flow": null,
       "grid_area": null,
       "grid_auto_columns": null,
       "grid_auto_flow": null,
       "grid_auto_rows": null,
       "grid_column": null,
       "grid_gap": null,
       "grid_row": null,
       "grid_template_areas": null,
       "grid_template_columns": null,
       "grid_template_rows": null,
       "height": null,
       "justify_content": null,
       "justify_items": null,
       "left": null,
       "margin": null,
       "max_height": null,
       "max_width": null,
       "min_height": null,
       "min_width": null,
       "object_fit": null,
       "object_position": null,
       "order": null,
       "overflow": null,
       "overflow_x": null,
       "overflow_y": null,
       "padding": null,
       "right": null,
       "top": null,
       "visibility": null,
       "width": null
      }
     },
     "54a87105bed0479e8e73d9009e9fa272": {
      "model_module": "@jupyter-widgets/controls",
      "model_module_version": "1.5.0",
      "model_name": "DescriptionStyleModel",
      "state": {
       "_model_module": "@jupyter-widgets/controls",
       "_model_module_version": "1.5.0",
       "_model_name": "DescriptionStyleModel",
       "_view_count": null,
       "_view_module": "@jupyter-widgets/base",
       "_view_module_version": "1.2.0",
       "_view_name": "StyleView",
       "description_width": ""
      }
     },
     "5a0d83ca2fa44ba1914566767ed9eb08": {
      "model_module": "@jupyter-widgets/controls",
      "model_module_version": "1.5.0",
      "model_name": "DescriptionStyleModel",
      "state": {
       "_model_module": "@jupyter-widgets/controls",
       "_model_module_version": "1.5.0",
       "_model_name": "DescriptionStyleModel",
       "_view_count": null,
       "_view_module": "@jupyter-widgets/base",
       "_view_module_version": "1.2.0",
       "_view_name": "StyleView",
       "description_width": ""
      }
     },
     "5e66efffb97d42b486a8b442d7c94c94": {
      "model_module": "@jupyter-widgets/controls",
      "model_module_version": "1.5.0",
      "model_name": "DescriptionStyleModel",
      "state": {
       "_model_module": "@jupyter-widgets/controls",
       "_model_module_version": "1.5.0",
       "_model_name": "DescriptionStyleModel",
       "_view_count": null,
       "_view_module": "@jupyter-widgets/base",
       "_view_module_version": "1.2.0",
       "_view_name": "StyleView",
       "description_width": ""
      }
     },
     "67c8415bd0624e18ad7362d82b55daac": {
      "model_module": "@jupyter-widgets/base",
      "model_module_version": "1.2.0",
      "model_name": "LayoutModel",
      "state": {
       "_model_module": "@jupyter-widgets/base",
       "_model_module_version": "1.2.0",
       "_model_name": "LayoutModel",
       "_view_count": null,
       "_view_module": "@jupyter-widgets/base",
       "_view_module_version": "1.2.0",
       "_view_name": "LayoutView",
       "align_content": null,
       "align_items": null,
       "align_self": null,
       "border": null,
       "bottom": null,
       "display": null,
       "flex": null,
       "flex_flow": null,
       "grid_area": null,
       "grid_auto_columns": null,
       "grid_auto_flow": null,
       "grid_auto_rows": null,
       "grid_column": null,
       "grid_gap": null,
       "grid_row": null,
       "grid_template_areas": null,
       "grid_template_columns": null,
       "grid_template_rows": null,
       "height": null,
       "justify_content": null,
       "justify_items": null,
       "left": null,
       "margin": null,
       "max_height": null,
       "max_width": null,
       "min_height": null,
       "min_width": null,
       "object_fit": null,
       "object_position": null,
       "order": null,
       "overflow": null,
       "overflow_x": null,
       "overflow_y": null,
       "padding": null,
       "right": null,
       "top": null,
       "visibility": null,
       "width": null
      }
     },
     "69138333e5074abba28f6d6a5a30d149": {
      "model_module": "@jupyter-widgets/controls",
      "model_module_version": "1.5.0",
      "model_name": "HTMLModel",
      "state": {
       "_dom_classes": [],
       "_model_module": "@jupyter-widgets/controls",
       "_model_module_version": "1.5.0",
       "_model_name": "HTMLModel",
       "_view_count": null,
       "_view_module": "@jupyter-widgets/controls",
       "_view_module_version": "1.5.0",
       "_view_name": "HTMLView",
       "description": "",
       "description_tooltip": null,
       "layout": "IPY_MODEL_67c8415bd0624e18ad7362d82b55daac",
       "placeholder": "​",
       "style": "IPY_MODEL_00fe3cd9ce1041eab01094cee2a9a44c",
       "value": "config.json: 100%"
      }
     },
     "69165369219a4f0592385c911ce76801": {
      "model_module": "@jupyter-widgets/base",
      "model_module_version": "1.2.0",
      "model_name": "LayoutModel",
      "state": {
       "_model_module": "@jupyter-widgets/base",
       "_model_module_version": "1.2.0",
       "_model_name": "LayoutModel",
       "_view_count": null,
       "_view_module": "@jupyter-widgets/base",
       "_view_module_version": "1.2.0",
       "_view_name": "LayoutView",
       "align_content": null,
       "align_items": null,
       "align_self": null,
       "border": null,
       "bottom": null,
       "display": null,
       "flex": null,
       "flex_flow": null,
       "grid_area": null,
       "grid_auto_columns": null,
       "grid_auto_flow": null,
       "grid_auto_rows": null,
       "grid_column": null,
       "grid_gap": null,
       "grid_row": null,
       "grid_template_areas": null,
       "grid_template_columns": null,
       "grid_template_rows": null,
       "height": null,
       "justify_content": null,
       "justify_items": null,
       "left": null,
       "margin": null,
       "max_height": null,
       "max_width": null,
       "min_height": null,
       "min_width": null,
       "object_fit": null,
       "object_position": null,
       "order": null,
       "overflow": null,
       "overflow_x": null,
       "overflow_y": null,
       "padding": null,
       "right": null,
       "top": null,
       "visibility": null,
       "width": null
      }
     },
     "699b67cb37c54c338e9cab9ee2a3c217": {
      "model_module": "@jupyter-widgets/base",
      "model_module_version": "1.2.0",
      "model_name": "LayoutModel",
      "state": {
       "_model_module": "@jupyter-widgets/base",
       "_model_module_version": "1.2.0",
       "_model_name": "LayoutModel",
       "_view_count": null,
       "_view_module": "@jupyter-widgets/base",
       "_view_module_version": "1.2.0",
       "_view_name": "LayoutView",
       "align_content": null,
       "align_items": null,
       "align_self": null,
       "border": null,
       "bottom": null,
       "display": null,
       "flex": null,
       "flex_flow": null,
       "grid_area": null,
       "grid_auto_columns": null,
       "grid_auto_flow": null,
       "grid_auto_rows": null,
       "grid_column": null,
       "grid_gap": null,
       "grid_row": null,
       "grid_template_areas": null,
       "grid_template_columns": null,
       "grid_template_rows": null,
       "height": null,
       "justify_content": null,
       "justify_items": null,
       "left": null,
       "margin": null,
       "max_height": null,
       "max_width": null,
       "min_height": null,
       "min_width": null,
       "object_fit": null,
       "object_position": null,
       "order": null,
       "overflow": null,
       "overflow_x": null,
       "overflow_y": null,
       "padding": null,
       "right": null,
       "top": null,
       "visibility": null,
       "width": null
      }
     },
     "69b6e8790f844f2cba804b223d7c48bc": {
      "model_module": "@jupyter-widgets/controls",
      "model_module_version": "1.5.0",
      "model_name": "ProgressStyleModel",
      "state": {
       "_model_module": "@jupyter-widgets/controls",
       "_model_module_version": "1.5.0",
       "_model_name": "ProgressStyleModel",
       "_view_count": null,
       "_view_module": "@jupyter-widgets/base",
       "_view_module_version": "1.2.0",
       "_view_name": "StyleView",
       "bar_color": null,
       "description_width": ""
      }
     },
     "6b051d76fef04b39a0eb604a3fe1b3f4": {
      "model_module": "@jupyter-widgets/controls",
      "model_module_version": "1.5.0",
      "model_name": "HTMLModel",
      "state": {
       "_dom_classes": [],
       "_model_module": "@jupyter-widgets/controls",
       "_model_module_version": "1.5.0",
       "_model_name": "HTMLModel",
       "_view_count": null,
       "_view_module": "@jupyter-widgets/controls",
       "_view_module_version": "1.5.0",
       "_view_name": "HTMLView",
       "description": "",
       "description_tooltip": null,
       "layout": "IPY_MODEL_37bdb6eb017749a6809eb4815e760047",
       "placeholder": "​",
       "style": "IPY_MODEL_2e1756b79cad4be096201d6d9f2d93cc",
       "value": " 466k/466k [00:00&lt;00:00, 784kB/s]"
      }
     },
     "6c8988214eae450f9d6d0099be6f5a57": {
      "model_module": "@jupyter-widgets/controls",
      "model_module_version": "1.5.0",
      "model_name": "HBoxModel",
      "state": {
       "_dom_classes": [],
       "_model_module": "@jupyter-widgets/controls",
       "_model_module_version": "1.5.0",
       "_model_name": "HBoxModel",
       "_view_count": null,
       "_view_module": "@jupyter-widgets/controls",
       "_view_module_version": "1.5.0",
       "_view_name": "HBoxView",
       "box_style": "",
       "children": [
        "IPY_MODEL_bc36f964ded44411a0d0659fb412ba62",
        "IPY_MODEL_462c5c66068f49648ef5725b1f1e68f6",
        "IPY_MODEL_6b051d76fef04b39a0eb604a3fe1b3f4"
       ],
       "layout": "IPY_MODEL_01824f39eb92451490ea0c6b63986135"
      }
     },
     "6cf543d765164094aa67fcf253f2074f": {
      "model_module": "@jupyter-widgets/base",
      "model_module_version": "1.2.0",
      "model_name": "LayoutModel",
      "state": {
       "_model_module": "@jupyter-widgets/base",
       "_model_module_version": "1.2.0",
       "_model_name": "LayoutModel",
       "_view_count": null,
       "_view_module": "@jupyter-widgets/base",
       "_view_module_version": "1.2.0",
       "_view_name": "LayoutView",
       "align_content": null,
       "align_items": null,
       "align_self": null,
       "border": null,
       "bottom": null,
       "display": null,
       "flex": null,
       "flex_flow": null,
       "grid_area": null,
       "grid_auto_columns": null,
       "grid_auto_flow": null,
       "grid_auto_rows": null,
       "grid_column": null,
       "grid_gap": null,
       "grid_row": null,
       "grid_template_areas": null,
       "grid_template_columns": null,
       "grid_template_rows": null,
       "height": null,
       "justify_content": null,
       "justify_items": null,
       "left": null,
       "margin": null,
       "max_height": null,
       "max_width": null,
       "min_height": null,
       "min_width": null,
       "object_fit": null,
       "object_position": null,
       "order": null,
       "overflow": null,
       "overflow_x": null,
       "overflow_y": null,
       "padding": null,
       "right": null,
       "top": null,
       "visibility": null,
       "width": null
      }
     },
     "6d3546e056804d35bea3abfded6ccc4a": {
      "model_module": "@jupyter-widgets/base",
      "model_module_version": "1.2.0",
      "model_name": "LayoutModel",
      "state": {
       "_model_module": "@jupyter-widgets/base",
       "_model_module_version": "1.2.0",
       "_model_name": "LayoutModel",
       "_view_count": null,
       "_view_module": "@jupyter-widgets/base",
       "_view_module_version": "1.2.0",
       "_view_name": "LayoutView",
       "align_content": null,
       "align_items": null,
       "align_self": null,
       "border": null,
       "bottom": null,
       "display": null,
       "flex": null,
       "flex_flow": null,
       "grid_area": null,
       "grid_auto_columns": null,
       "grid_auto_flow": null,
       "grid_auto_rows": null,
       "grid_column": null,
       "grid_gap": null,
       "grid_row": null,
       "grid_template_areas": null,
       "grid_template_columns": null,
       "grid_template_rows": null,
       "height": null,
       "justify_content": null,
       "justify_items": null,
       "left": null,
       "margin": null,
       "max_height": null,
       "max_width": null,
       "min_height": null,
       "min_width": null,
       "object_fit": null,
       "object_position": null,
       "order": null,
       "overflow": null,
       "overflow_x": null,
       "overflow_y": null,
       "padding": null,
       "right": null,
       "top": null,
       "visibility": null,
       "width": null
      }
     },
     "744bd4cc9a75427a969cf652b4a66985": {
      "model_module": "@jupyter-widgets/base",
      "model_module_version": "1.2.0",
      "model_name": "LayoutModel",
      "state": {
       "_model_module": "@jupyter-widgets/base",
       "_model_module_version": "1.2.0",
       "_model_name": "LayoutModel",
       "_view_count": null,
       "_view_module": "@jupyter-widgets/base",
       "_view_module_version": "1.2.0",
       "_view_name": "LayoutView",
       "align_content": null,
       "align_items": null,
       "align_self": null,
       "border": null,
       "bottom": null,
       "display": null,
       "flex": null,
       "flex_flow": null,
       "grid_area": null,
       "grid_auto_columns": null,
       "grid_auto_flow": null,
       "grid_auto_rows": null,
       "grid_column": null,
       "grid_gap": null,
       "grid_row": null,
       "grid_template_areas": null,
       "grid_template_columns": null,
       "grid_template_rows": null,
       "height": null,
       "justify_content": null,
       "justify_items": null,
       "left": null,
       "margin": null,
       "max_height": null,
       "max_width": null,
       "min_height": null,
       "min_width": null,
       "object_fit": null,
       "object_position": null,
       "order": null,
       "overflow": null,
       "overflow_x": null,
       "overflow_y": null,
       "padding": null,
       "right": null,
       "top": null,
       "visibility": null,
       "width": null
      }
     },
     "7bb55752662344f9817eb00394bd95ce": {
      "model_module": "@jupyter-widgets/controls",
      "model_module_version": "1.5.0",
      "model_name": "DescriptionStyleModel",
      "state": {
       "_model_module": "@jupyter-widgets/controls",
       "_model_module_version": "1.5.0",
       "_model_name": "DescriptionStyleModel",
       "_view_count": null,
       "_view_module": "@jupyter-widgets/base",
       "_view_module_version": "1.2.0",
       "_view_name": "StyleView",
       "description_width": ""
      }
     },
     "7fc8597bef5a4caa9816612a528dec78": {
      "model_module": "@jupyter-widgets/controls",
      "model_module_version": "1.5.0",
      "model_name": "HTMLModel",
      "state": {
       "_dom_classes": [],
       "_model_module": "@jupyter-widgets/controls",
       "_model_module_version": "1.5.0",
       "_model_name": "HTMLModel",
       "_view_count": null,
       "_view_module": "@jupyter-widgets/controls",
       "_view_module_version": "1.5.0",
       "_view_name": "HTMLView",
       "description": "",
       "description_tooltip": null,
       "layout": "IPY_MODEL_8a3eab53a8fe4d0685f288dcdc6682c0",
       "placeholder": "​",
       "style": "IPY_MODEL_aa62ac32fd4541b8abbe0477e49cc073",
       "value": "model.safetensors: 100%"
      }
     },
     "84cb94b6b654448fbc81804cb4a892e2": {
      "model_module": "@jupyter-widgets/base",
      "model_module_version": "1.2.0",
      "model_name": "LayoutModel",
      "state": {
       "_model_module": "@jupyter-widgets/base",
       "_model_module_version": "1.2.0",
       "_model_name": "LayoutModel",
       "_view_count": null,
       "_view_module": "@jupyter-widgets/base",
       "_view_module_version": "1.2.0",
       "_view_name": "LayoutView",
       "align_content": null,
       "align_items": null,
       "align_self": null,
       "border": null,
       "bottom": null,
       "display": null,
       "flex": null,
       "flex_flow": null,
       "grid_area": null,
       "grid_auto_columns": null,
       "grid_auto_flow": null,
       "grid_auto_rows": null,
       "grid_column": null,
       "grid_gap": null,
       "grid_row": null,
       "grid_template_areas": null,
       "grid_template_columns": null,
       "grid_template_rows": null,
       "height": null,
       "justify_content": null,
       "justify_items": null,
       "left": null,
       "margin": null,
       "max_height": null,
       "max_width": null,
       "min_height": null,
       "min_width": null,
       "object_fit": null,
       "object_position": null,
       "order": null,
       "overflow": null,
       "overflow_x": null,
       "overflow_y": null,
       "padding": null,
       "right": null,
       "top": null,
       "visibility": null,
       "width": null
      }
     },
     "8a3eab53a8fe4d0685f288dcdc6682c0": {
      "model_module": "@jupyter-widgets/base",
      "model_module_version": "1.2.0",
      "model_name": "LayoutModel",
      "state": {
       "_model_module": "@jupyter-widgets/base",
       "_model_module_version": "1.2.0",
       "_model_name": "LayoutModel",
       "_view_count": null,
       "_view_module": "@jupyter-widgets/base",
       "_view_module_version": "1.2.0",
       "_view_name": "LayoutView",
       "align_content": null,
       "align_items": null,
       "align_self": null,
       "border": null,
       "bottom": null,
       "display": null,
       "flex": null,
       "flex_flow": null,
       "grid_area": null,
       "grid_auto_columns": null,
       "grid_auto_flow": null,
       "grid_auto_rows": null,
       "grid_column": null,
       "grid_gap": null,
       "grid_row": null,
       "grid_template_areas": null,
       "grid_template_columns": null,
       "grid_template_rows": null,
       "height": null,
       "justify_content": null,
       "justify_items": null,
       "left": null,
       "margin": null,
       "max_height": null,
       "max_width": null,
       "min_height": null,
       "min_width": null,
       "object_fit": null,
       "object_position": null,
       "order": null,
       "overflow": null,
       "overflow_x": null,
       "overflow_y": null,
       "padding": null,
       "right": null,
       "top": null,
       "visibility": null,
       "width": null
      }
     },
     "8aae053593874670916d1fad475feefa": {
      "model_module": "@jupyter-widgets/controls",
      "model_module_version": "1.5.0",
      "model_name": "HTMLModel",
      "state": {
       "_dom_classes": [],
       "_model_module": "@jupyter-widgets/controls",
       "_model_module_version": "1.5.0",
       "_model_name": "HTMLModel",
       "_view_count": null,
       "_view_module": "@jupyter-widgets/controls",
       "_view_module_version": "1.5.0",
       "_view_name": "HTMLView",
       "description": "",
       "description_tooltip": null,
       "layout": "IPY_MODEL_9e6a9559a2744fd0bad79a6f76c52f72",
       "placeholder": "​",
       "style": "IPY_MODEL_5e66efffb97d42b486a8b442d7c94c94",
       "value": " 28.0/28.0 [00:00&lt;00:00, 1.54kB/s]"
      }
     },
     "9e6a9559a2744fd0bad79a6f76c52f72": {
      "model_module": "@jupyter-widgets/base",
      "model_module_version": "1.2.0",
      "model_name": "LayoutModel",
      "state": {
       "_model_module": "@jupyter-widgets/base",
       "_model_module_version": "1.2.0",
       "_model_name": "LayoutModel",
       "_view_count": null,
       "_view_module": "@jupyter-widgets/base",
       "_view_module_version": "1.2.0",
       "_view_name": "LayoutView",
       "align_content": null,
       "align_items": null,
       "align_self": null,
       "border": null,
       "bottom": null,
       "display": null,
       "flex": null,
       "flex_flow": null,
       "grid_area": null,
       "grid_auto_columns": null,
       "grid_auto_flow": null,
       "grid_auto_rows": null,
       "grid_column": null,
       "grid_gap": null,
       "grid_row": null,
       "grid_template_areas": null,
       "grid_template_columns": null,
       "grid_template_rows": null,
       "height": null,
       "justify_content": null,
       "justify_items": null,
       "left": null,
       "margin": null,
       "max_height": null,
       "max_width": null,
       "min_height": null,
       "min_width": null,
       "object_fit": null,
       "object_position": null,
       "order": null,
       "overflow": null,
       "overflow_x": null,
       "overflow_y": null,
       "padding": null,
       "right": null,
       "top": null,
       "visibility": null,
       "width": null
      }
     },
     "9ebe13f509d64ab1886212277b482cd7": {
      "model_module": "@jupyter-widgets/controls",
      "model_module_version": "1.5.0",
      "model_name": "HTMLModel",
      "state": {
       "_dom_classes": [],
       "_model_module": "@jupyter-widgets/controls",
       "_model_module_version": "1.5.0",
       "_model_name": "HTMLModel",
       "_view_count": null,
       "_view_module": "@jupyter-widgets/controls",
       "_view_module_version": "1.5.0",
       "_view_name": "HTMLView",
       "description": "",
       "description_tooltip": null,
       "layout": "IPY_MODEL_69165369219a4f0592385c911ce76801",
       "placeholder": "​",
       "style": "IPY_MODEL_54a87105bed0479e8e73d9009e9fa272",
       "value": " 232k/232k [00:00&lt;00:00, 578kB/s]"
      }
     },
     "a08f6772f95e41e99af038be3e4f5320": {
      "model_module": "@jupyter-widgets/controls",
      "model_module_version": "1.5.0",
      "model_name": "HBoxModel",
      "state": {
       "_dom_classes": [],
       "_model_module": "@jupyter-widgets/controls",
       "_model_module_version": "1.5.0",
       "_model_name": "HBoxModel",
       "_view_count": null,
       "_view_module": "@jupyter-widgets/controls",
       "_view_module_version": "1.5.0",
       "_view_name": "HBoxView",
       "box_style": "",
       "children": [
        "IPY_MODEL_7fc8597bef5a4caa9816612a528dec78",
        "IPY_MODEL_1bcd63856f2c4104b0acb7f6b9c19ad8",
        "IPY_MODEL_d0d99d9142e3493a81bf2963a8489535"
       ],
       "layout": "IPY_MODEL_6d3546e056804d35bea3abfded6ccc4a"
      }
     },
     "a109f39573df4e7ea56485ac6b40aa4c": {
      "model_module": "@jupyter-widgets/controls",
      "model_module_version": "1.5.0",
      "model_name": "HBoxModel",
      "state": {
       "_dom_classes": [],
       "_model_module": "@jupyter-widgets/controls",
       "_model_module_version": "1.5.0",
       "_model_name": "HBoxModel",
       "_view_count": null,
       "_view_module": "@jupyter-widgets/controls",
       "_view_module_version": "1.5.0",
       "_view_name": "HBoxView",
       "box_style": "",
       "children": [
        "IPY_MODEL_246b85b698604b22ad7d0de3833f77ac",
        "IPY_MODEL_ef7291f2a79744a790a08477be59e0cf",
        "IPY_MODEL_8aae053593874670916d1fad475feefa"
       ],
       "layout": "IPY_MODEL_511f0b30cf974841958a1c7b7b0c1576"
      }
     },
     "aa62ac32fd4541b8abbe0477e49cc073": {
      "model_module": "@jupyter-widgets/controls",
      "model_module_version": "1.5.0",
      "model_name": "DescriptionStyleModel",
      "state": {
       "_model_module": "@jupyter-widgets/controls",
       "_model_module_version": "1.5.0",
       "_model_name": "DescriptionStyleModel",
       "_view_count": null,
       "_view_module": "@jupyter-widgets/base",
       "_view_module_version": "1.2.0",
       "_view_name": "StyleView",
       "description_width": ""
      }
     },
     "bc36f964ded44411a0d0659fb412ba62": {
      "model_module": "@jupyter-widgets/controls",
      "model_module_version": "1.5.0",
      "model_name": "HTMLModel",
      "state": {
       "_dom_classes": [],
       "_model_module": "@jupyter-widgets/controls",
       "_model_module_version": "1.5.0",
       "_model_name": "HTMLModel",
       "_view_count": null,
       "_view_module": "@jupyter-widgets/controls",
       "_view_module_version": "1.5.0",
       "_view_name": "HTMLView",
       "description": "",
       "description_tooltip": null,
       "layout": "IPY_MODEL_d295d7b407d543fb817723cc1b84d36b",
       "placeholder": "​",
       "style": "IPY_MODEL_11416c25a8e34060a20f2cbd996617a5",
       "value": "tokenizer.json: 100%"
      }
     },
     "be35a125835c4526859998dca2e290bd": {
      "model_module": "@jupyter-widgets/controls",
      "model_module_version": "1.5.0",
      "model_name": "ProgressStyleModel",
      "state": {
       "_model_module": "@jupyter-widgets/controls",
       "_model_module_version": "1.5.0",
       "_model_name": "ProgressStyleModel",
       "_view_count": null,
       "_view_module": "@jupyter-widgets/base",
       "_view_module_version": "1.2.0",
       "_view_name": "StyleView",
       "bar_color": null,
       "description_width": ""
      }
     },
     "c1124068673644349c1d47369e23bef7": {
      "model_module": "@jupyter-widgets/controls",
      "model_module_version": "1.5.0",
      "model_name": "ProgressStyleModel",
      "state": {
       "_model_module": "@jupyter-widgets/controls",
       "_model_module_version": "1.5.0",
       "_model_name": "ProgressStyleModel",
       "_view_count": null,
       "_view_module": "@jupyter-widgets/base",
       "_view_module_version": "1.2.0",
       "_view_name": "StyleView",
       "bar_color": null,
       "description_width": ""
      }
     },
     "c2fe55d13fdb456baef2bdeabf4676bc": {
      "model_module": "@jupyter-widgets/controls",
      "model_module_version": "1.5.0",
      "model_name": "HTMLModel",
      "state": {
       "_dom_classes": [],
       "_model_module": "@jupyter-widgets/controls",
       "_model_module_version": "1.5.0",
       "_model_name": "HTMLModel",
       "_view_count": null,
       "_view_module": "@jupyter-widgets/controls",
       "_view_module_version": "1.5.0",
       "_view_name": "HTMLView",
       "description": "",
       "description_tooltip": null,
       "layout": "IPY_MODEL_458fb248ceb84e388b7f6ce024ad8abd",
       "placeholder": "​",
       "style": "IPY_MODEL_7bb55752662344f9817eb00394bd95ce",
       "value": " 483/483 [00:00&lt;00:00, 34.6kB/s]"
      }
     },
     "c73e9e523bae464d85bc8216d4fa30e0": {
      "model_module": "@jupyter-widgets/base",
      "model_module_version": "1.2.0",
      "model_name": "LayoutModel",
      "state": {
       "_model_module": "@jupyter-widgets/base",
       "_model_module_version": "1.2.0",
       "_model_name": "LayoutModel",
       "_view_count": null,
       "_view_module": "@jupyter-widgets/base",
       "_view_module_version": "1.2.0",
       "_view_name": "LayoutView",
       "align_content": null,
       "align_items": null,
       "align_self": null,
       "border": null,
       "bottom": null,
       "display": null,
       "flex": null,
       "flex_flow": null,
       "grid_area": null,
       "grid_auto_columns": null,
       "grid_auto_flow": null,
       "grid_auto_rows": null,
       "grid_column": null,
       "grid_gap": null,
       "grid_row": null,
       "grid_template_areas": null,
       "grid_template_columns": null,
       "grid_template_rows": null,
       "height": null,
       "justify_content": null,
       "justify_items": null,
       "left": null,
       "margin": null,
       "max_height": null,
       "max_width": null,
       "min_height": null,
       "min_width": null,
       "object_fit": null,
       "object_position": null,
       "order": null,
       "overflow": null,
       "overflow_x": null,
       "overflow_y": null,
       "padding": null,
       "right": null,
       "top": null,
       "visibility": null,
       "width": null
      }
     },
     "c86251d0d3d148019b6f336392a80956": {
      "model_module": "@jupyter-widgets/base",
      "model_module_version": "1.2.0",
      "model_name": "LayoutModel",
      "state": {
       "_model_module": "@jupyter-widgets/base",
       "_model_module_version": "1.2.0",
       "_model_name": "LayoutModel",
       "_view_count": null,
       "_view_module": "@jupyter-widgets/base",
       "_view_module_version": "1.2.0",
       "_view_name": "LayoutView",
       "align_content": null,
       "align_items": null,
       "align_self": null,
       "border": null,
       "bottom": null,
       "display": null,
       "flex": null,
       "flex_flow": null,
       "grid_area": null,
       "grid_auto_columns": null,
       "grid_auto_flow": null,
       "grid_auto_rows": null,
       "grid_column": null,
       "grid_gap": null,
       "grid_row": null,
       "grid_template_areas": null,
       "grid_template_columns": null,
       "grid_template_rows": null,
       "height": null,
       "justify_content": null,
       "justify_items": null,
       "left": null,
       "margin": null,
       "max_height": null,
       "max_width": null,
       "min_height": null,
       "min_width": null,
       "object_fit": null,
       "object_position": null,
       "order": null,
       "overflow": null,
       "overflow_x": null,
       "overflow_y": null,
       "padding": null,
       "right": null,
       "top": null,
       "visibility": null,
       "width": null
      }
     },
     "d0d99d9142e3493a81bf2963a8489535": {
      "model_module": "@jupyter-widgets/controls",
      "model_module_version": "1.5.0",
      "model_name": "HTMLModel",
      "state": {
       "_dom_classes": [],
       "_model_module": "@jupyter-widgets/controls",
       "_model_module_version": "1.5.0",
       "_model_name": "HTMLModel",
       "_view_count": null,
       "_view_module": "@jupyter-widgets/controls",
       "_view_module_version": "1.5.0",
       "_view_name": "HTMLView",
       "description": "",
       "description_tooltip": null,
       "layout": "IPY_MODEL_e53cb2747849495ea639786fdc1a61ed",
       "placeholder": "​",
       "style": "IPY_MODEL_5a0d83ca2fa44ba1914566767ed9eb08",
       "value": " 268M/268M [00:03&lt;00:00, 82.2MB/s]"
      }
     },
     "d295d7b407d543fb817723cc1b84d36b": {
      "model_module": "@jupyter-widgets/base",
      "model_module_version": "1.2.0",
      "model_name": "LayoutModel",
      "state": {
       "_model_module": "@jupyter-widgets/base",
       "_model_module_version": "1.2.0",
       "_model_name": "LayoutModel",
       "_view_count": null,
       "_view_module": "@jupyter-widgets/base",
       "_view_module_version": "1.2.0",
       "_view_name": "LayoutView",
       "align_content": null,
       "align_items": null,
       "align_self": null,
       "border": null,
       "bottom": null,
       "display": null,
       "flex": null,
       "flex_flow": null,
       "grid_area": null,
       "grid_auto_columns": null,
       "grid_auto_flow": null,
       "grid_auto_rows": null,
       "grid_column": null,
       "grid_gap": null,
       "grid_row": null,
       "grid_template_areas": null,
       "grid_template_columns": null,
       "grid_template_rows": null,
       "height": null,
       "justify_content": null,
       "justify_items": null,
       "left": null,
       "margin": null,
       "max_height": null,
       "max_width": null,
       "min_height": null,
       "min_width": null,
       "object_fit": null,
       "object_position": null,
       "order": null,
       "overflow": null,
       "overflow_x": null,
       "overflow_y": null,
       "padding": null,
       "right": null,
       "top": null,
       "visibility": null,
       "width": null
      }
     },
     "d7e80306a83c4a508cddc6bc1db30781": {
      "model_module": "@jupyter-widgets/controls",
      "model_module_version": "1.5.0",
      "model_name": "DescriptionStyleModel",
      "state": {
       "_model_module": "@jupyter-widgets/controls",
       "_model_module_version": "1.5.0",
       "_model_name": "DescriptionStyleModel",
       "_view_count": null,
       "_view_module": "@jupyter-widgets/base",
       "_view_module_version": "1.2.0",
       "_view_name": "StyleView",
       "description_width": ""
      }
     },
     "e4b8398746314354b014ebd1fa7f4c97": {
      "model_module": "@jupyter-widgets/controls",
      "model_module_version": "1.5.0",
      "model_name": "FloatProgressModel",
      "state": {
       "_dom_classes": [],
       "_model_module": "@jupyter-widgets/controls",
       "_model_module_version": "1.5.0",
       "_model_name": "FloatProgressModel",
       "_view_count": null,
       "_view_module": "@jupyter-widgets/controls",
       "_view_module_version": "1.5.0",
       "_view_name": "ProgressView",
       "bar_style": "success",
       "description": "",
       "description_tooltip": null,
       "layout": "IPY_MODEL_50c73ab75dea495696eb30a5dfed3545",
       "max": 231508.0,
       "min": 0.0,
       "orientation": "horizontal",
       "style": "IPY_MODEL_17da2dfb6f0b44daa9a48be79d66a875",
       "value": 231508.0
      }
     },
     "e53cb2747849495ea639786fdc1a61ed": {
      "model_module": "@jupyter-widgets/base",
      "model_module_version": "1.2.0",
      "model_name": "LayoutModel",
      "state": {
       "_model_module": "@jupyter-widgets/base",
       "_model_module_version": "1.2.0",
       "_model_name": "LayoutModel",
       "_view_count": null,
       "_view_module": "@jupyter-widgets/base",
       "_view_module_version": "1.2.0",
       "_view_name": "LayoutView",
       "align_content": null,
       "align_items": null,
       "align_self": null,
       "border": null,
       "bottom": null,
       "display": null,
       "flex": null,
       "flex_flow": null,
       "grid_area": null,
       "grid_auto_columns": null,
       "grid_auto_flow": null,
       "grid_auto_rows": null,
       "grid_column": null,
       "grid_gap": null,
       "grid_row": null,
       "grid_template_areas": null,
       "grid_template_columns": null,
       "grid_template_rows": null,
       "height": null,
       "justify_content": null,
       "justify_items": null,
       "left": null,
       "margin": null,
       "max_height": null,
       "max_width": null,
       "min_height": null,
       "min_width": null,
       "object_fit": null,
       "object_position": null,
       "order": null,
       "overflow": null,
       "overflow_x": null,
       "overflow_y": null,
       "padding": null,
       "right": null,
       "top": null,
       "visibility": null,
       "width": null
      }
     },
     "e6f173f19a424582802e5477c847975c": {
      "model_module": "@jupyter-widgets/controls",
      "model_module_version": "1.5.0",
      "model_name": "FloatProgressModel",
      "state": {
       "_dom_classes": [],
       "_model_module": "@jupyter-widgets/controls",
       "_model_module_version": "1.5.0",
       "_model_name": "FloatProgressModel",
       "_view_count": null,
       "_view_module": "@jupyter-widgets/controls",
       "_view_module_version": "1.5.0",
       "_view_name": "ProgressView",
       "bar_style": "success",
       "description": "",
       "description_tooltip": null,
       "layout": "IPY_MODEL_699b67cb37c54c338e9cab9ee2a3c217",
       "max": 483.0,
       "min": 0.0,
       "orientation": "horizontal",
       "style": "IPY_MODEL_45350cc843f44dc88dc99efa871e1207",
       "value": 483.0
      }
     },
     "ef7291f2a79744a790a08477be59e0cf": {
      "model_module": "@jupyter-widgets/controls",
      "model_module_version": "1.5.0",
      "model_name": "FloatProgressModel",
      "state": {
       "_dom_classes": [],
       "_model_module": "@jupyter-widgets/controls",
       "_model_module_version": "1.5.0",
       "_model_name": "FloatProgressModel",
       "_view_count": null,
       "_view_module": "@jupyter-widgets/controls",
       "_view_module_version": "1.5.0",
       "_view_name": "ProgressView",
       "bar_style": "success",
       "description": "",
       "description_tooltip": null,
       "layout": "IPY_MODEL_c86251d0d3d148019b6f336392a80956",
       "max": 28.0,
       "min": 0.0,
       "orientation": "horizontal",
       "style": "IPY_MODEL_69b6e8790f844f2cba804b223d7c48bc",
       "value": 28.0
      }
     },
     "f5c010029bc140acacaf08d935f748bf": {
      "model_module": "@jupyter-widgets/base",
      "model_module_version": "1.2.0",
      "model_name": "LayoutModel",
      "state": {
       "_model_module": "@jupyter-widgets/base",
       "_model_module_version": "1.2.0",
       "_model_name": "LayoutModel",
       "_view_count": null,
       "_view_module": "@jupyter-widgets/base",
       "_view_module_version": "1.2.0",
       "_view_name": "LayoutView",
       "align_content": null,
       "align_items": null,
       "align_self": null,
       "border": null,
       "bottom": null,
       "display": null,
       "flex": null,
       "flex_flow": null,
       "grid_area": null,
       "grid_auto_columns": null,
       "grid_auto_flow": null,
       "grid_auto_rows": null,
       "grid_column": null,
       "grid_gap": null,
       "grid_row": null,
       "grid_template_areas": null,
       "grid_template_columns": null,
       "grid_template_rows": null,
       "height": null,
       "justify_content": null,
       "justify_items": null,
       "left": null,
       "margin": null,
       "max_height": null,
       "max_width": null,
       "min_height": null,
       "min_width": null,
       "object_fit": null,
       "object_position": null,
       "order": null,
       "overflow": null,
       "overflow_x": null,
       "overflow_y": null,
       "padding": null,
       "right": null,
       "top": null,
       "visibility": null,
       "width": null
      }
     },
     "f94d67ef7e3d46e485e5a46a4fca9700": {
      "model_module": "@jupyter-widgets/base",
      "model_module_version": "1.2.0",
      "model_name": "LayoutModel",
      "state": {
       "_model_module": "@jupyter-widgets/base",
       "_model_module_version": "1.2.0",
       "_model_name": "LayoutModel",
       "_view_count": null,
       "_view_module": "@jupyter-widgets/base",
       "_view_module_version": "1.2.0",
       "_view_name": "LayoutView",
       "align_content": null,
       "align_items": null,
       "align_self": null,
       "border": null,
       "bottom": null,
       "display": null,
       "flex": null,
       "flex_flow": null,
       "grid_area": null,
       "grid_auto_columns": null,
       "grid_auto_flow": null,
       "grid_auto_rows": null,
       "grid_column": null,
       "grid_gap": null,
       "grid_row": null,
       "grid_template_areas": null,
       "grid_template_columns": null,
       "grid_template_rows": null,
       "height": null,
       "justify_content": null,
       "justify_items": null,
       "left": null,
       "margin": null,
       "max_height": null,
       "max_width": null,
       "min_height": null,
       "min_width": null,
       "object_fit": null,
       "object_position": null,
       "order": null,
       "overflow": null,
       "overflow_x": null,
       "overflow_y": null,
       "padding": null,
       "right": null,
       "top": null,
       "visibility": null,
       "width": null
      }
     }
    },
    "version_major": 2,
    "version_minor": 0
   }
  }
 },
 "nbformat": 4,
 "nbformat_minor": 5
}
